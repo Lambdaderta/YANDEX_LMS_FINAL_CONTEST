{
  "metadata": {
    "kernelspec": {
      "display_name": "Python 3",
      "name": "python3"
    },
    "language_info": {
      "name": "python",
      "version": "3.10.12",
      "mimetype": "text/x-python",
      "codemirror_mode": {
        "name": "ipython",
        "version": 3
      },
      "pygments_lexer": "ipython3",
      "nbconvert_exporter": "python",
      "file_extension": ".py"
    },
    "kaggle": {
      "accelerator": "none",
      "dataSources": [
        {
          "sourceId": 98102,
          "databundleVersionId": 11691206,
          "sourceType": "competition"
        }
      ],
      "dockerImageVersionId": 30918,
      "isInternetEnabled": false,
      "language": "python",
      "sourceType": "notebook",
      "isGpuEnabled": false
    },
    "colab": {
      "provenance": [],
      "collapsed_sections": [
        "RWvlO_t1vxDC",
        "EBgNgy42vs6C",
        "XujqhvHZn5uW",
        "35TK1YQ2pztS",
        "Oeb-S6aQAZ7K"
      ],
      "gpuType": "T4",
      "include_colab_link": true
    },
    "widgets": {
      "application/vnd.jupyter.widget-state+json": {
        "5e904a03af9d4480a1982ab62dd5a7e3": {
          "model_module": "@jupyter-widgets/controls",
          "model_name": "VBoxModel",
          "model_module_version": "1.5.0",
          "state": {
            "_dom_classes": [],
            "_model_module": "@jupyter-widgets/controls",
            "_model_module_version": "1.5.0",
            "_model_name": "VBoxModel",
            "_view_count": null,
            "_view_module": "@jupyter-widgets/controls",
            "_view_module_version": "1.5.0",
            "_view_name": "VBoxView",
            "box_style": "",
            "children": [
              "IPY_MODEL_36df62aefbc949dfb38ed1c57efe926c"
            ],
            "layout": "IPY_MODEL_8e1197a5ef5c4e0da204b2d1ea02835e"
          }
        },
        "a341f2ee753549a0ab53c8092a3e7483": {
          "model_module": "@jupyter-widgets/controls",
          "model_name": "HTMLModel",
          "model_module_version": "1.5.0",
          "state": {
            "_dom_classes": [],
            "_model_module": "@jupyter-widgets/controls",
            "_model_module_version": "1.5.0",
            "_model_name": "HTMLModel",
            "_view_count": null,
            "_view_module": "@jupyter-widgets/controls",
            "_view_module_version": "1.5.0",
            "_view_name": "HTMLView",
            "description": "",
            "description_tooltip": null,
            "layout": "IPY_MODEL_f2b77816895843d8b3632b43f9be3d55",
            "placeholder": "​",
            "style": "IPY_MODEL_68aefdab6d584865bba68851e8cfd9d2",
            "value": "<center> <img\nsrc=https://www.kaggle.com/static/images/site-logo.png\nalt='Kaggle'> <br> Create an API token from <a\nhref=\"https://www.kaggle.com/settings/account\" target=\"_blank\">your Kaggle\nsettings page</a> and paste it below along with your Kaggle username. <br> </center>"
          }
        },
        "1d8ce9290b6e4c91ae202c8b45831e51": {
          "model_module": "@jupyter-widgets/controls",
          "model_name": "TextModel",
          "model_module_version": "1.5.0",
          "state": {
            "_dom_classes": [],
            "_model_module": "@jupyter-widgets/controls",
            "_model_module_version": "1.5.0",
            "_model_name": "TextModel",
            "_view_count": null,
            "_view_module": "@jupyter-widgets/controls",
            "_view_module_version": "1.5.0",
            "_view_name": "TextView",
            "continuous_update": true,
            "description": "Username:",
            "description_tooltip": null,
            "disabled": false,
            "layout": "IPY_MODEL_75a503fa1fa245e9b35c32f10b2463a0",
            "placeholder": "​",
            "style": "IPY_MODEL_62ed40eb65394942b4ff8bd5c27234c1",
            "value": "lambdaderta"
          }
        },
        "d867e6a74f704527b951c4c775d9130f": {
          "model_module": "@jupyter-widgets/controls",
          "model_name": "PasswordModel",
          "model_module_version": "1.5.0",
          "state": {
            "_dom_classes": [],
            "_model_module": "@jupyter-widgets/controls",
            "_model_module_version": "1.5.0",
            "_model_name": "PasswordModel",
            "_view_count": null,
            "_view_module": "@jupyter-widgets/controls",
            "_view_module_version": "1.5.0",
            "_view_name": "PasswordView",
            "continuous_update": true,
            "description": "Token:",
            "description_tooltip": null,
            "disabled": false,
            "layout": "IPY_MODEL_cd4f81a73c62402a99b9eff08a34eb8f",
            "placeholder": "​",
            "style": "IPY_MODEL_c91fae1dd8ee4eaa8ffd41ee74eb9b97",
            "value": ""
          }
        },
        "7d4e1f6c774343569e40c87f0212f2f9": {
          "model_module": "@jupyter-widgets/controls",
          "model_name": "ButtonModel",
          "model_module_version": "1.5.0",
          "state": {
            "_dom_classes": [],
            "_model_module": "@jupyter-widgets/controls",
            "_model_module_version": "1.5.0",
            "_model_name": "ButtonModel",
            "_view_count": null,
            "_view_module": "@jupyter-widgets/controls",
            "_view_module_version": "1.5.0",
            "_view_name": "ButtonView",
            "button_style": "",
            "description": "Login",
            "disabled": false,
            "icon": "",
            "layout": "IPY_MODEL_bb8dd76a807c4af5ab7cb8757669f2b4",
            "style": "IPY_MODEL_4b0a934482c44a28b02834b2db683b37",
            "tooltip": ""
          }
        },
        "2927f514e5fe4f67bfd7c101c7dc0c06": {
          "model_module": "@jupyter-widgets/controls",
          "model_name": "HTMLModel",
          "model_module_version": "1.5.0",
          "state": {
            "_dom_classes": [],
            "_model_module": "@jupyter-widgets/controls",
            "_model_module_version": "1.5.0",
            "_model_name": "HTMLModel",
            "_view_count": null,
            "_view_module": "@jupyter-widgets/controls",
            "_view_module_version": "1.5.0",
            "_view_name": "HTMLView",
            "description": "",
            "description_tooltip": null,
            "layout": "IPY_MODEL_a4acfab4edd64d39bf01a05a195a70a3",
            "placeholder": "​",
            "style": "IPY_MODEL_0e168f7dcdcd403583df2060dfde9c6f",
            "value": "\n<b>Thank You</b></center>"
          }
        },
        "8e1197a5ef5c4e0da204b2d1ea02835e": {
          "model_module": "@jupyter-widgets/base",
          "model_name": "LayoutModel",
          "model_module_version": "1.2.0",
          "state": {
            "_model_module": "@jupyter-widgets/base",
            "_model_module_version": "1.2.0",
            "_model_name": "LayoutModel",
            "_view_count": null,
            "_view_module": "@jupyter-widgets/base",
            "_view_module_version": "1.2.0",
            "_view_name": "LayoutView",
            "align_content": null,
            "align_items": "center",
            "align_self": null,
            "border": null,
            "bottom": null,
            "display": "flex",
            "flex": null,
            "flex_flow": "column",
            "grid_area": null,
            "grid_auto_columns": null,
            "grid_auto_flow": null,
            "grid_auto_rows": null,
            "grid_column": null,
            "grid_gap": null,
            "grid_row": null,
            "grid_template_areas": null,
            "grid_template_columns": null,
            "grid_template_rows": null,
            "height": null,
            "justify_content": null,
            "justify_items": null,
            "left": null,
            "margin": null,
            "max_height": null,
            "max_width": null,
            "min_height": null,
            "min_width": null,
            "object_fit": null,
            "object_position": null,
            "order": null,
            "overflow": null,
            "overflow_x": null,
            "overflow_y": null,
            "padding": null,
            "right": null,
            "top": null,
            "visibility": null,
            "width": "50%"
          }
        },
        "f2b77816895843d8b3632b43f9be3d55": {
          "model_module": "@jupyter-widgets/base",
          "model_name": "LayoutModel",
          "model_module_version": "1.2.0",
          "state": {
            "_model_module": "@jupyter-widgets/base",
            "_model_module_version": "1.2.0",
            "_model_name": "LayoutModel",
            "_view_count": null,
            "_view_module": "@jupyter-widgets/base",
            "_view_module_version": "1.2.0",
            "_view_name": "LayoutView",
            "align_content": null,
            "align_items": null,
            "align_self": null,
            "border": null,
            "bottom": null,
            "display": null,
            "flex": null,
            "flex_flow": null,
            "grid_area": null,
            "grid_auto_columns": null,
            "grid_auto_flow": null,
            "grid_auto_rows": null,
            "grid_column": null,
            "grid_gap": null,
            "grid_row": null,
            "grid_template_areas": null,
            "grid_template_columns": null,
            "grid_template_rows": null,
            "height": null,
            "justify_content": null,
            "justify_items": null,
            "left": null,
            "margin": null,
            "max_height": null,
            "max_width": null,
            "min_height": null,
            "min_width": null,
            "object_fit": null,
            "object_position": null,
            "order": null,
            "overflow": null,
            "overflow_x": null,
            "overflow_y": null,
            "padding": null,
            "right": null,
            "top": null,
            "visibility": null,
            "width": null
          }
        },
        "68aefdab6d584865bba68851e8cfd9d2": {
          "model_module": "@jupyter-widgets/controls",
          "model_name": "DescriptionStyleModel",
          "model_module_version": "1.5.0",
          "state": {
            "_model_module": "@jupyter-widgets/controls",
            "_model_module_version": "1.5.0",
            "_model_name": "DescriptionStyleModel",
            "_view_count": null,
            "_view_module": "@jupyter-widgets/base",
            "_view_module_version": "1.2.0",
            "_view_name": "StyleView",
            "description_width": ""
          }
        },
        "75a503fa1fa245e9b35c32f10b2463a0": {
          "model_module": "@jupyter-widgets/base",
          "model_name": "LayoutModel",
          "model_module_version": "1.2.0",
          "state": {
            "_model_module": "@jupyter-widgets/base",
            "_model_module_version": "1.2.0",
            "_model_name": "LayoutModel",
            "_view_count": null,
            "_view_module": "@jupyter-widgets/base",
            "_view_module_version": "1.2.0",
            "_view_name": "LayoutView",
            "align_content": null,
            "align_items": null,
            "align_self": null,
            "border": null,
            "bottom": null,
            "display": null,
            "flex": null,
            "flex_flow": null,
            "grid_area": null,
            "grid_auto_columns": null,
            "grid_auto_flow": null,
            "grid_auto_rows": null,
            "grid_column": null,
            "grid_gap": null,
            "grid_row": null,
            "grid_template_areas": null,
            "grid_template_columns": null,
            "grid_template_rows": null,
            "height": null,
            "justify_content": null,
            "justify_items": null,
            "left": null,
            "margin": null,
            "max_height": null,
            "max_width": null,
            "min_height": null,
            "min_width": null,
            "object_fit": null,
            "object_position": null,
            "order": null,
            "overflow": null,
            "overflow_x": null,
            "overflow_y": null,
            "padding": null,
            "right": null,
            "top": null,
            "visibility": null,
            "width": null
          }
        },
        "62ed40eb65394942b4ff8bd5c27234c1": {
          "model_module": "@jupyter-widgets/controls",
          "model_name": "DescriptionStyleModel",
          "model_module_version": "1.5.0",
          "state": {
            "_model_module": "@jupyter-widgets/controls",
            "_model_module_version": "1.5.0",
            "_model_name": "DescriptionStyleModel",
            "_view_count": null,
            "_view_module": "@jupyter-widgets/base",
            "_view_module_version": "1.2.0",
            "_view_name": "StyleView",
            "description_width": ""
          }
        },
        "cd4f81a73c62402a99b9eff08a34eb8f": {
          "model_module": "@jupyter-widgets/base",
          "model_name": "LayoutModel",
          "model_module_version": "1.2.0",
          "state": {
            "_model_module": "@jupyter-widgets/base",
            "_model_module_version": "1.2.0",
            "_model_name": "LayoutModel",
            "_view_count": null,
            "_view_module": "@jupyter-widgets/base",
            "_view_module_version": "1.2.0",
            "_view_name": "LayoutView",
            "align_content": null,
            "align_items": null,
            "align_self": null,
            "border": null,
            "bottom": null,
            "display": null,
            "flex": null,
            "flex_flow": null,
            "grid_area": null,
            "grid_auto_columns": null,
            "grid_auto_flow": null,
            "grid_auto_rows": null,
            "grid_column": null,
            "grid_gap": null,
            "grid_row": null,
            "grid_template_areas": null,
            "grid_template_columns": null,
            "grid_template_rows": null,
            "height": null,
            "justify_content": null,
            "justify_items": null,
            "left": null,
            "margin": null,
            "max_height": null,
            "max_width": null,
            "min_height": null,
            "min_width": null,
            "object_fit": null,
            "object_position": null,
            "order": null,
            "overflow": null,
            "overflow_x": null,
            "overflow_y": null,
            "padding": null,
            "right": null,
            "top": null,
            "visibility": null,
            "width": null
          }
        },
        "c91fae1dd8ee4eaa8ffd41ee74eb9b97": {
          "model_module": "@jupyter-widgets/controls",
          "model_name": "DescriptionStyleModel",
          "model_module_version": "1.5.0",
          "state": {
            "_model_module": "@jupyter-widgets/controls",
            "_model_module_version": "1.5.0",
            "_model_name": "DescriptionStyleModel",
            "_view_count": null,
            "_view_module": "@jupyter-widgets/base",
            "_view_module_version": "1.2.0",
            "_view_name": "StyleView",
            "description_width": ""
          }
        },
        "bb8dd76a807c4af5ab7cb8757669f2b4": {
          "model_module": "@jupyter-widgets/base",
          "model_name": "LayoutModel",
          "model_module_version": "1.2.0",
          "state": {
            "_model_module": "@jupyter-widgets/base",
            "_model_module_version": "1.2.0",
            "_model_name": "LayoutModel",
            "_view_count": null,
            "_view_module": "@jupyter-widgets/base",
            "_view_module_version": "1.2.0",
            "_view_name": "LayoutView",
            "align_content": null,
            "align_items": null,
            "align_self": null,
            "border": null,
            "bottom": null,
            "display": null,
            "flex": null,
            "flex_flow": null,
            "grid_area": null,
            "grid_auto_columns": null,
            "grid_auto_flow": null,
            "grid_auto_rows": null,
            "grid_column": null,
            "grid_gap": null,
            "grid_row": null,
            "grid_template_areas": null,
            "grid_template_columns": null,
            "grid_template_rows": null,
            "height": null,
            "justify_content": null,
            "justify_items": null,
            "left": null,
            "margin": null,
            "max_height": null,
            "max_width": null,
            "min_height": null,
            "min_width": null,
            "object_fit": null,
            "object_position": null,
            "order": null,
            "overflow": null,
            "overflow_x": null,
            "overflow_y": null,
            "padding": null,
            "right": null,
            "top": null,
            "visibility": null,
            "width": null
          }
        },
        "4b0a934482c44a28b02834b2db683b37": {
          "model_module": "@jupyter-widgets/controls",
          "model_name": "ButtonStyleModel",
          "model_module_version": "1.5.0",
          "state": {
            "_model_module": "@jupyter-widgets/controls",
            "_model_module_version": "1.5.0",
            "_model_name": "ButtonStyleModel",
            "_view_count": null,
            "_view_module": "@jupyter-widgets/base",
            "_view_module_version": "1.2.0",
            "_view_name": "StyleView",
            "button_color": null,
            "font_weight": ""
          }
        },
        "a4acfab4edd64d39bf01a05a195a70a3": {
          "model_module": "@jupyter-widgets/base",
          "model_name": "LayoutModel",
          "model_module_version": "1.2.0",
          "state": {
            "_model_module": "@jupyter-widgets/base",
            "_model_module_version": "1.2.0",
            "_model_name": "LayoutModel",
            "_view_count": null,
            "_view_module": "@jupyter-widgets/base",
            "_view_module_version": "1.2.0",
            "_view_name": "LayoutView",
            "align_content": null,
            "align_items": null,
            "align_self": null,
            "border": null,
            "bottom": null,
            "display": null,
            "flex": null,
            "flex_flow": null,
            "grid_area": null,
            "grid_auto_columns": null,
            "grid_auto_flow": null,
            "grid_auto_rows": null,
            "grid_column": null,
            "grid_gap": null,
            "grid_row": null,
            "grid_template_areas": null,
            "grid_template_columns": null,
            "grid_template_rows": null,
            "height": null,
            "justify_content": null,
            "justify_items": null,
            "left": null,
            "margin": null,
            "max_height": null,
            "max_width": null,
            "min_height": null,
            "min_width": null,
            "object_fit": null,
            "object_position": null,
            "order": null,
            "overflow": null,
            "overflow_x": null,
            "overflow_y": null,
            "padding": null,
            "right": null,
            "top": null,
            "visibility": null,
            "width": null
          }
        },
        "0e168f7dcdcd403583df2060dfde9c6f": {
          "model_module": "@jupyter-widgets/controls",
          "model_name": "DescriptionStyleModel",
          "model_module_version": "1.5.0",
          "state": {
            "_model_module": "@jupyter-widgets/controls",
            "_model_module_version": "1.5.0",
            "_model_name": "DescriptionStyleModel",
            "_view_count": null,
            "_view_module": "@jupyter-widgets/base",
            "_view_module_version": "1.2.0",
            "_view_name": "StyleView",
            "description_width": ""
          }
        },
        "1596a6851daa4976a616ea4b3028b3cc": {
          "model_module": "@jupyter-widgets/controls",
          "model_name": "LabelModel",
          "model_module_version": "1.5.0",
          "state": {
            "_dom_classes": [],
            "_model_module": "@jupyter-widgets/controls",
            "_model_module_version": "1.5.0",
            "_model_name": "LabelModel",
            "_view_count": null,
            "_view_module": "@jupyter-widgets/controls",
            "_view_module_version": "1.5.0",
            "_view_name": "LabelView",
            "description": "",
            "description_tooltip": null,
            "layout": "IPY_MODEL_f65217d100b64084955674781daff479",
            "placeholder": "​",
            "style": "IPY_MODEL_cb53e0bd29f44d50941264b2d336d261",
            "value": "Connecting..."
          }
        },
        "f65217d100b64084955674781daff479": {
          "model_module": "@jupyter-widgets/base",
          "model_name": "LayoutModel",
          "model_module_version": "1.2.0",
          "state": {
            "_model_module": "@jupyter-widgets/base",
            "_model_module_version": "1.2.0",
            "_model_name": "LayoutModel",
            "_view_count": null,
            "_view_module": "@jupyter-widgets/base",
            "_view_module_version": "1.2.0",
            "_view_name": "LayoutView",
            "align_content": null,
            "align_items": null,
            "align_self": null,
            "border": null,
            "bottom": null,
            "display": null,
            "flex": null,
            "flex_flow": null,
            "grid_area": null,
            "grid_auto_columns": null,
            "grid_auto_flow": null,
            "grid_auto_rows": null,
            "grid_column": null,
            "grid_gap": null,
            "grid_row": null,
            "grid_template_areas": null,
            "grid_template_columns": null,
            "grid_template_rows": null,
            "height": null,
            "justify_content": null,
            "justify_items": null,
            "left": null,
            "margin": null,
            "max_height": null,
            "max_width": null,
            "min_height": null,
            "min_width": null,
            "object_fit": null,
            "object_position": null,
            "order": null,
            "overflow": null,
            "overflow_x": null,
            "overflow_y": null,
            "padding": null,
            "right": null,
            "top": null,
            "visibility": null,
            "width": null
          }
        },
        "cb53e0bd29f44d50941264b2d336d261": {
          "model_module": "@jupyter-widgets/controls",
          "model_name": "DescriptionStyleModel",
          "model_module_version": "1.5.0",
          "state": {
            "_model_module": "@jupyter-widgets/controls",
            "_model_module_version": "1.5.0",
            "_model_name": "DescriptionStyleModel",
            "_view_count": null,
            "_view_module": "@jupyter-widgets/base",
            "_view_module_version": "1.2.0",
            "_view_name": "StyleView",
            "description_width": ""
          }
        },
        "36df62aefbc949dfb38ed1c57efe926c": {
          "model_module": "@jupyter-widgets/controls",
          "model_name": "LabelModel",
          "model_module_version": "1.5.0",
          "state": {
            "_dom_classes": [],
            "_model_module": "@jupyter-widgets/controls",
            "_model_module_version": "1.5.0",
            "_model_name": "LabelModel",
            "_view_count": null,
            "_view_module": "@jupyter-widgets/controls",
            "_view_module_version": "1.5.0",
            "_view_name": "LabelView",
            "description": "",
            "description_tooltip": null,
            "layout": "IPY_MODEL_53782d17484444f4a96b2b12aeaca99c",
            "placeholder": "​",
            "style": "IPY_MODEL_8fc5b9ba0e3a4c1db8d3e641da0994f6",
            "value": "Kaggle credentials successfully validated."
          }
        },
        "53782d17484444f4a96b2b12aeaca99c": {
          "model_module": "@jupyter-widgets/base",
          "model_name": "LayoutModel",
          "model_module_version": "1.2.0",
          "state": {
            "_model_module": "@jupyter-widgets/base",
            "_model_module_version": "1.2.0",
            "_model_name": "LayoutModel",
            "_view_count": null,
            "_view_module": "@jupyter-widgets/base",
            "_view_module_version": "1.2.0",
            "_view_name": "LayoutView",
            "align_content": null,
            "align_items": null,
            "align_self": null,
            "border": null,
            "bottom": null,
            "display": null,
            "flex": null,
            "flex_flow": null,
            "grid_area": null,
            "grid_auto_columns": null,
            "grid_auto_flow": null,
            "grid_auto_rows": null,
            "grid_column": null,
            "grid_gap": null,
            "grid_row": null,
            "grid_template_areas": null,
            "grid_template_columns": null,
            "grid_template_rows": null,
            "height": null,
            "justify_content": null,
            "justify_items": null,
            "left": null,
            "margin": null,
            "max_height": null,
            "max_width": null,
            "min_height": null,
            "min_width": null,
            "object_fit": null,
            "object_position": null,
            "order": null,
            "overflow": null,
            "overflow_x": null,
            "overflow_y": null,
            "padding": null,
            "right": null,
            "top": null,
            "visibility": null,
            "width": null
          }
        },
        "8fc5b9ba0e3a4c1db8d3e641da0994f6": {
          "model_module": "@jupyter-widgets/controls",
          "model_name": "DescriptionStyleModel",
          "model_module_version": "1.5.0",
          "state": {
            "_model_module": "@jupyter-widgets/controls",
            "_model_module_version": "1.5.0",
            "_model_name": "DescriptionStyleModel",
            "_view_count": null,
            "_view_module": "@jupyter-widgets/base",
            "_view_module_version": "1.2.0",
            "_view_name": "StyleView",
            "description_width": ""
          }
        }
      }
    },
    "accelerator": "GPU"
  },
  "nbformat_minor": 0,
  "nbformat": 4,
  "cells": [
    {
      "cell_type": "markdown",
      "metadata": {
        "id": "view-in-github",
        "colab_type": "text"
      },
      "source": [
        "<a href=\"https://colab.research.google.com/github/Lambdaderta/yandex_lms_contest_ResNet/blob/main/ResNetik.ipynb\" target=\"_parent\"><img src=\"https://colab.research.google.com/assets/colab-badge.svg\" alt=\"Open In Colab\"/></a>"
      ]
    },
    {
      "cell_type": "markdown",
      "source": [
        "# Загрузка датасета и библиотек"
      ],
      "metadata": {
        "id": "RWvlO_t1vxDC"
      }
    },
    {
      "source": [
        "# IMPORTANT: SOME KAGGLE DATA SOURCES ARE PRIVATE\n",
        "# RUN THIS CELL IN ORDER TO IMPORT YOUR KAGGLE DATA SOURCES.\n",
        "import kagglehub\n",
        "kagglehub.login()\n"
      ],
      "metadata": {
        "id": "FHGoF8amEzFd",
        "colab": {
          "base_uri": "https://localhost:8080/",
          "height": 84,
          "referenced_widgets": [
            "5e904a03af9d4480a1982ab62dd5a7e3",
            "a341f2ee753549a0ab53c8092a3e7483",
            "1d8ce9290b6e4c91ae202c8b45831e51",
            "d867e6a74f704527b951c4c775d9130f",
            "7d4e1f6c774343569e40c87f0212f2f9",
            "2927f514e5fe4f67bfd7c101c7dc0c06",
            "8e1197a5ef5c4e0da204b2d1ea02835e",
            "f2b77816895843d8b3632b43f9be3d55",
            "68aefdab6d584865bba68851e8cfd9d2",
            "75a503fa1fa245e9b35c32f10b2463a0",
            "62ed40eb65394942b4ff8bd5c27234c1",
            "cd4f81a73c62402a99b9eff08a34eb8f",
            "c91fae1dd8ee4eaa8ffd41ee74eb9b97",
            "bb8dd76a807c4af5ab7cb8757669f2b4",
            "4b0a934482c44a28b02834b2db683b37",
            "a4acfab4edd64d39bf01a05a195a70a3",
            "0e168f7dcdcd403583df2060dfde9c6f",
            "1596a6851daa4976a616ea4b3028b3cc",
            "f65217d100b64084955674781daff479",
            "cb53e0bd29f44d50941264b2d336d261",
            "36df62aefbc949dfb38ed1c57efe926c",
            "53782d17484444f4a96b2b12aeaca99c",
            "8fc5b9ba0e3a4c1db8d3e641da0994f6"
          ]
        },
        "outputId": "c1eccb1a-58b8-4d88-8133-9a6f28492c7b"
      },
      "cell_type": "code",
      "outputs": [
        {
          "output_type": "display_data",
          "data": {
            "text/plain": [
              "VBox(children=(HTML(value='<center> <img\\nsrc=https://www.kaggle.com/static/images/site-logo.png\\nalt=\\'Kaggle…"
            ],
            "application/vnd.jupyter.widget-view+json": {
              "version_major": 2,
              "version_minor": 0,
              "model_id": "5e904a03af9d4480a1982ab62dd5a7e3"
            }
          },
          "metadata": {}
        },
        {
          "output_type": "stream",
          "name": "stdout",
          "text": [
            "Kaggle credentials set.\n",
            "Kaggle credentials successfully validated.\n"
          ]
        }
      ],
      "execution_count": null
    },
    {
      "source": [
        "# IMPORTANT: RUN THIS CELL IN ORDER TO IMPORT YOUR KAGGLE DATA SOURCES,\n",
        "# THEN FEEL FREE TO DELETE THIS CELL.\n",
        "# NOTE: THIS NOTEBOOK ENVIRONMENT DIFFERS FROM KAGGLE'S PYTHON\n",
        "# ENVIRONMENT SO THERE MAY BE MISSING LIBRARIES USED BY YOUR\n",
        "# NOTEBOOK.\n",
        "\n",
        "ml_intensive_yandex_academy_spring_2025_path = kagglehub.competition_download('ml-intensive-yandex-academy-spring-2025')\n",
        "\n",
        "print('Data source import complete.')\n"
      ],
      "metadata": {
        "id": "pHvtyr6REzFe",
        "colab": {
          "base_uri": "https://localhost:8080/"
        },
        "outputId": "633ee43b-0422-4abb-a87f-274521456e76"
      },
      "cell_type": "code",
      "outputs": [
        {
          "output_type": "stream",
          "name": "stdout",
          "text": [
            "Downloading from https://www.kaggle.com/api/v1/competitions/data/download-all/ml-intensive-yandex-academy-spring-2025...\n"
          ]
        },
        {
          "output_type": "stream",
          "name": "stderr",
          "text": [
            "100%|██████████| 7.90G/7.90G [05:58<00:00, 23.7MB/s]"
          ]
        },
        {
          "output_type": "stream",
          "name": "stdout",
          "text": [
            "Extracting files...\n"
          ]
        },
        {
          "output_type": "stream",
          "name": "stderr",
          "text": [
            "\n"
          ]
        },
        {
          "output_type": "stream",
          "name": "stdout",
          "text": [
            "Data source import complete.\n"
          ]
        }
      ],
      "execution_count": null
    },
    {
      "cell_type": "code",
      "source": [
        "!ls /root/.cache/kagglehub/competitions/ml-intensive-yandex-academy-spring-2025/human_poses_data/"
      ],
      "metadata": {
        "colab": {
          "base_uri": "https://localhost:8080/"
        },
        "id": "QRgEY_zSM2oC",
        "outputId": "896da2b9-43ae-41c8-f5e1-d3d0392a6a84"
      },
      "execution_count": null,
      "outputs": [
        {
          "output_type": "stream",
          "name": "stdout",
          "text": [
            "activity_categories.csv  img_test  img_train  train_answers.csv\n"
          ]
        }
      ]
    },
    {
      "cell_type": "code",
      "source": [
        "!pip install --upgrade pillow pandas torch torchvision"
      ],
      "metadata": {
        "trusted": true,
        "execution": {
          "iopub.status.busy": "2025-04-08T20:00:01.912952Z",
          "iopub.execute_input": "2025-04-08T20:00:01.91332Z",
          "iopub.status.idle": "2025-04-08T20:00:08.513072Z",
          "shell.execute_reply.started": "2025-04-08T20:00:01.913288Z",
          "shell.execute_reply": "2025-04-08T20:00:08.511723Z"
        },
        "id": "5BOwIhxtEzFf",
        "outputId": "fab9a71a-6f5b-4b45-9336-4572112370f9",
        "colab": {
          "base_uri": "https://localhost:8080/",
          "height": 1000
        }
      },
      "outputs": [
        {
          "output_type": "stream",
          "name": "stdout",
          "text": [
            "Requirement already satisfied: pillow in /usr/local/lib/python3.11/dist-packages (11.1.0)\n",
            "Collecting pillow\n",
            "  Downloading pillow-11.2.1-cp311-cp311-manylinux_2_28_x86_64.whl.metadata (8.9 kB)\n",
            "Requirement already satisfied: pandas in /usr/local/lib/python3.11/dist-packages (2.2.2)\n",
            "Collecting pandas\n",
            "  Downloading pandas-2.2.3-cp311-cp311-manylinux_2_17_x86_64.manylinux2014_x86_64.whl.metadata (89 kB)\n",
            "\u001b[2K     \u001b[90m━━━━━━━━━━━━━━━━━━━━━━━━━━━━━━━━━━━━━━━━\u001b[0m \u001b[32m89.9/89.9 kB\u001b[0m \u001b[31m7.8 MB/s\u001b[0m eta \u001b[36m0:00:00\u001b[0m\n",
            "\u001b[?25hRequirement already satisfied: torch in /usr/local/lib/python3.11/dist-packages (2.6.0+cu124)\n",
            "Requirement already satisfied: torchvision in /usr/local/lib/python3.11/dist-packages (0.21.0+cu124)\n",
            "Requirement already satisfied: numpy>=1.23.2 in /usr/local/lib/python3.11/dist-packages (from pandas) (2.0.2)\n",
            "Requirement already satisfied: python-dateutil>=2.8.2 in /usr/local/lib/python3.11/dist-packages (from pandas) (2.8.2)\n",
            "Requirement already satisfied: pytz>=2020.1 in /usr/local/lib/python3.11/dist-packages (from pandas) (2025.2)\n",
            "Requirement already satisfied: tzdata>=2022.7 in /usr/local/lib/python3.11/dist-packages (from pandas) (2025.2)\n",
            "Requirement already satisfied: filelock in /usr/local/lib/python3.11/dist-packages (from torch) (3.18.0)\n",
            "Requirement already satisfied: typing-extensions>=4.10.0 in /usr/local/lib/python3.11/dist-packages (from torch) (4.13.2)\n",
            "Requirement already satisfied: networkx in /usr/local/lib/python3.11/dist-packages (from torch) (3.4.2)\n",
            "Requirement already satisfied: jinja2 in /usr/local/lib/python3.11/dist-packages (from torch) (3.1.6)\n",
            "Requirement already satisfied: fsspec in /usr/local/lib/python3.11/dist-packages (from torch) (2025.3.2)\n",
            "Collecting nvidia-cuda-nvrtc-cu12==12.4.127 (from torch)\n",
            "  Downloading nvidia_cuda_nvrtc_cu12-12.4.127-py3-none-manylinux2014_x86_64.whl.metadata (1.5 kB)\n",
            "Collecting nvidia-cuda-runtime-cu12==12.4.127 (from torch)\n",
            "  Downloading nvidia_cuda_runtime_cu12-12.4.127-py3-none-manylinux2014_x86_64.whl.metadata (1.5 kB)\n",
            "Collecting nvidia-cuda-cupti-cu12==12.4.127 (from torch)\n",
            "  Downloading nvidia_cuda_cupti_cu12-12.4.127-py3-none-manylinux2014_x86_64.whl.metadata (1.6 kB)\n",
            "Collecting nvidia-cudnn-cu12==9.1.0.70 (from torch)\n",
            "  Downloading nvidia_cudnn_cu12-9.1.0.70-py3-none-manylinux2014_x86_64.whl.metadata (1.6 kB)\n",
            "Collecting nvidia-cublas-cu12==12.4.5.8 (from torch)\n",
            "  Downloading nvidia_cublas_cu12-12.4.5.8-py3-none-manylinux2014_x86_64.whl.metadata (1.5 kB)\n",
            "Collecting nvidia-cufft-cu12==11.2.1.3 (from torch)\n",
            "  Downloading nvidia_cufft_cu12-11.2.1.3-py3-none-manylinux2014_x86_64.whl.metadata (1.5 kB)\n",
            "Collecting nvidia-curand-cu12==10.3.5.147 (from torch)\n",
            "  Downloading nvidia_curand_cu12-10.3.5.147-py3-none-manylinux2014_x86_64.whl.metadata (1.5 kB)\n",
            "Collecting nvidia-cusolver-cu12==11.6.1.9 (from torch)\n",
            "  Downloading nvidia_cusolver_cu12-11.6.1.9-py3-none-manylinux2014_x86_64.whl.metadata (1.6 kB)\n",
            "Collecting nvidia-cusparse-cu12==12.3.1.170 (from torch)\n",
            "  Downloading nvidia_cusparse_cu12-12.3.1.170-py3-none-manylinux2014_x86_64.whl.metadata (1.6 kB)\n",
            "Requirement already satisfied: nvidia-cusparselt-cu12==0.6.2 in /usr/local/lib/python3.11/dist-packages (from torch) (0.6.2)\n",
            "Requirement already satisfied: nvidia-nccl-cu12==2.21.5 in /usr/local/lib/python3.11/dist-packages (from torch) (2.21.5)\n",
            "Requirement already satisfied: nvidia-nvtx-cu12==12.4.127 in /usr/local/lib/python3.11/dist-packages (from torch) (12.4.127)\n",
            "Collecting nvidia-nvjitlink-cu12==12.4.127 (from torch)\n",
            "  Downloading nvidia_nvjitlink_cu12-12.4.127-py3-none-manylinux2014_x86_64.whl.metadata (1.5 kB)\n",
            "Requirement already satisfied: triton==3.2.0 in /usr/local/lib/python3.11/dist-packages (from torch) (3.2.0)\n",
            "Requirement already satisfied: sympy==1.13.1 in /usr/local/lib/python3.11/dist-packages (from torch) (1.13.1)\n",
            "Requirement already satisfied: mpmath<1.4,>=1.1.0 in /usr/local/lib/python3.11/dist-packages (from sympy==1.13.1->torch) (1.3.0)\n",
            "Requirement already satisfied: six>=1.5 in /usr/local/lib/python3.11/dist-packages (from python-dateutil>=2.8.2->pandas) (1.17.0)\n",
            "Requirement already satisfied: MarkupSafe>=2.0 in /usr/local/lib/python3.11/dist-packages (from jinja2->torch) (3.0.2)\n",
            "Downloading pillow-11.2.1-cp311-cp311-manylinux_2_28_x86_64.whl (4.6 MB)\n",
            "\u001b[2K   \u001b[90m━━━━━━━━━━━━━━━━━━━━━━━━━━━━━━━━━━━━━━━━\u001b[0m \u001b[32m4.6/4.6 MB\u001b[0m \u001b[31m118.6 MB/s\u001b[0m eta \u001b[36m0:00:00\u001b[0m\n",
            "\u001b[?25hDownloading pandas-2.2.3-cp311-cp311-manylinux_2_17_x86_64.manylinux2014_x86_64.whl (13.1 MB)\n",
            "\u001b[2K   \u001b[90m━━━━━━━━━━━━━━━━━━━━━━━━━━━━━━━━━━━━━━━━\u001b[0m \u001b[32m13.1/13.1 MB\u001b[0m \u001b[31m22.0 MB/s\u001b[0m eta \u001b[36m0:00:00\u001b[0m\n",
            "\u001b[?25hDownloading nvidia_cublas_cu12-12.4.5.8-py3-none-manylinux2014_x86_64.whl (363.4 MB)\n",
            "\u001b[2K   \u001b[90m━━━━━━━━━━━━━━━━━━━━━━━━━━━━━━━━━━━━━━━━\u001b[0m \u001b[32m363.4/363.4 MB\u001b[0m \u001b[31m5.4 MB/s\u001b[0m eta \u001b[36m0:00:00\u001b[0m\n",
            "\u001b[?25hDownloading nvidia_cuda_cupti_cu12-12.4.127-py3-none-manylinux2014_x86_64.whl (13.8 MB)\n",
            "\u001b[2K   \u001b[90m━━━━━━━━━━━━━━━━━━━━━━━━━━━━━━━━━━━━━━━━\u001b[0m \u001b[32m13.8/13.8 MB\u001b[0m \u001b[31m97.2 MB/s\u001b[0m eta \u001b[36m0:00:00\u001b[0m\n",
            "\u001b[?25hDownloading nvidia_cuda_nvrtc_cu12-12.4.127-py3-none-manylinux2014_x86_64.whl (24.6 MB)\n",
            "\u001b[2K   \u001b[90m━━━━━━━━━━━━━━━━━━━━━━━━━━━━━━━━━━━━━━━━\u001b[0m \u001b[32m24.6/24.6 MB\u001b[0m \u001b[31m98.3 MB/s\u001b[0m eta \u001b[36m0:00:00\u001b[0m\n",
            "\u001b[?25hDownloading nvidia_cuda_runtime_cu12-12.4.127-py3-none-manylinux2014_x86_64.whl (883 kB)\n",
            "\u001b[2K   \u001b[90m━━━━━━━━━━━━━━━━━━━━━━━━━━━━━━━━━━━━━━━━\u001b[0m \u001b[32m883.7/883.7 kB\u001b[0m \u001b[31m65.5 MB/s\u001b[0m eta \u001b[36m0:00:00\u001b[0m\n",
            "\u001b[?25hDownloading nvidia_cudnn_cu12-9.1.0.70-py3-none-manylinux2014_x86_64.whl (664.8 MB)\n",
            "\u001b[2K   \u001b[90m━━━━━━━━━━━━━━━━━━━━━━━━━━━━━━━━━━━━━━━━\u001b[0m \u001b[32m664.8/664.8 MB\u001b[0m \u001b[31m2.9 MB/s\u001b[0m eta \u001b[36m0:00:00\u001b[0m\n",
            "\u001b[?25hDownloading nvidia_cufft_cu12-11.2.1.3-py3-none-manylinux2014_x86_64.whl (211.5 MB)\n",
            "\u001b[2K   \u001b[90m━━━━━━━━━━━━━━━━━━━━━━━━━━━━━━━━━━━━━━━━\u001b[0m \u001b[32m211.5/211.5 MB\u001b[0m \u001b[31m5.5 MB/s\u001b[0m eta \u001b[36m0:00:00\u001b[0m\n",
            "\u001b[?25hDownloading nvidia_curand_cu12-10.3.5.147-py3-none-manylinux2014_x86_64.whl (56.3 MB)\n",
            "\u001b[2K   \u001b[90m━━━━━━━━━━━━━━━━━━━━━━━━━━━━━━━━━━━━━━━━\u001b[0m \u001b[32m56.3/56.3 MB\u001b[0m \u001b[31m13.3 MB/s\u001b[0m eta \u001b[36m0:00:00\u001b[0m\n",
            "\u001b[?25hDownloading nvidia_cusolver_cu12-11.6.1.9-py3-none-manylinux2014_x86_64.whl (127.9 MB)\n",
            "\u001b[2K   \u001b[90m━━━━━━━━━━━━━━━━━━━━━━━━━━━━━━━━━━━━━━━━\u001b[0m \u001b[32m127.9/127.9 MB\u001b[0m \u001b[31m7.4 MB/s\u001b[0m eta \u001b[36m0:00:00\u001b[0m\n",
            "\u001b[?25hDownloading nvidia_cusparse_cu12-12.3.1.170-py3-none-manylinux2014_x86_64.whl (207.5 MB)\n",
            "\u001b[2K   \u001b[90m━━━━━━━━━━━━━━━━━━━━━━━━━━━━━━━━━━━━━━━━\u001b[0m \u001b[32m207.5/207.5 MB\u001b[0m \u001b[31m5.4 MB/s\u001b[0m eta \u001b[36m0:00:00\u001b[0m\n",
            "\u001b[?25hDownloading nvidia_nvjitlink_cu12-12.4.127-py3-none-manylinux2014_x86_64.whl (21.1 MB)\n",
            "\u001b[2K   \u001b[90m━━━━━━━━━━━━━━━━━━━━━━━━━━━━━━━━━━━━━━━━\u001b[0m \u001b[32m21.1/21.1 MB\u001b[0m \u001b[31m81.2 MB/s\u001b[0m eta \u001b[36m0:00:00\u001b[0m\n",
            "\u001b[?25hInstalling collected packages: pillow, nvidia-nvjitlink-cu12, nvidia-curand-cu12, nvidia-cufft-cu12, nvidia-cuda-runtime-cu12, nvidia-cuda-nvrtc-cu12, nvidia-cuda-cupti-cu12, nvidia-cublas-cu12, pandas, nvidia-cusparse-cu12, nvidia-cudnn-cu12, nvidia-cusolver-cu12\n",
            "  Attempting uninstall: pillow\n",
            "    Found existing installation: pillow 11.1.0\n",
            "    Uninstalling pillow-11.1.0:\n",
            "      Successfully uninstalled pillow-11.1.0\n",
            "  Attempting uninstall: nvidia-nvjitlink-cu12\n",
            "    Found existing installation: nvidia-nvjitlink-cu12 12.5.82\n",
            "    Uninstalling nvidia-nvjitlink-cu12-12.5.82:\n",
            "      Successfully uninstalled nvidia-nvjitlink-cu12-12.5.82\n",
            "  Attempting uninstall: nvidia-curand-cu12\n",
            "    Found existing installation: nvidia-curand-cu12 10.3.6.82\n",
            "    Uninstalling nvidia-curand-cu12-10.3.6.82:\n",
            "      Successfully uninstalled nvidia-curand-cu12-10.3.6.82\n",
            "  Attempting uninstall: nvidia-cufft-cu12\n",
            "    Found existing installation: nvidia-cufft-cu12 11.2.3.61\n",
            "    Uninstalling nvidia-cufft-cu12-11.2.3.61:\n",
            "      Successfully uninstalled nvidia-cufft-cu12-11.2.3.61\n",
            "  Attempting uninstall: nvidia-cuda-runtime-cu12\n",
            "    Found existing installation: nvidia-cuda-runtime-cu12 12.5.82\n",
            "    Uninstalling nvidia-cuda-runtime-cu12-12.5.82:\n",
            "      Successfully uninstalled nvidia-cuda-runtime-cu12-12.5.82\n",
            "  Attempting uninstall: nvidia-cuda-nvrtc-cu12\n",
            "    Found existing installation: nvidia-cuda-nvrtc-cu12 12.5.82\n",
            "    Uninstalling nvidia-cuda-nvrtc-cu12-12.5.82:\n",
            "      Successfully uninstalled nvidia-cuda-nvrtc-cu12-12.5.82\n",
            "  Attempting uninstall: nvidia-cuda-cupti-cu12\n",
            "    Found existing installation: nvidia-cuda-cupti-cu12 12.5.82\n",
            "    Uninstalling nvidia-cuda-cupti-cu12-12.5.82:\n",
            "      Successfully uninstalled nvidia-cuda-cupti-cu12-12.5.82\n",
            "  Attempting uninstall: nvidia-cublas-cu12\n",
            "    Found existing installation: nvidia-cublas-cu12 12.5.3.2\n",
            "    Uninstalling nvidia-cublas-cu12-12.5.3.2:\n",
            "      Successfully uninstalled nvidia-cublas-cu12-12.5.3.2\n",
            "  Attempting uninstall: pandas\n",
            "    Found existing installation: pandas 2.2.2\n",
            "    Uninstalling pandas-2.2.2:\n",
            "      Successfully uninstalled pandas-2.2.2\n",
            "  Attempting uninstall: nvidia-cusparse-cu12\n",
            "    Found existing installation: nvidia-cusparse-cu12 12.5.1.3\n",
            "    Uninstalling nvidia-cusparse-cu12-12.5.1.3:\n",
            "      Successfully uninstalled nvidia-cusparse-cu12-12.5.1.3\n",
            "  Attempting uninstall: nvidia-cudnn-cu12\n",
            "    Found existing installation: nvidia-cudnn-cu12 9.3.0.75\n",
            "    Uninstalling nvidia-cudnn-cu12-9.3.0.75:\n",
            "      Successfully uninstalled nvidia-cudnn-cu12-9.3.0.75\n",
            "  Attempting uninstall: nvidia-cusolver-cu12\n",
            "    Found existing installation: nvidia-cusolver-cu12 11.6.3.83\n",
            "    Uninstalling nvidia-cusolver-cu12-11.6.3.83:\n",
            "      Successfully uninstalled nvidia-cusolver-cu12-11.6.3.83\n",
            "\u001b[31mERROR: pip's dependency resolver does not currently take into account all the packages that are installed. This behaviour is the source of the following dependency conflicts.\n",
            "google-colab 1.0.0 requires pandas==2.2.2, but you have pandas 2.2.3 which is incompatible.\u001b[0m\u001b[31m\n",
            "\u001b[0mSuccessfully installed nvidia-cublas-cu12-12.4.5.8 nvidia-cuda-cupti-cu12-12.4.127 nvidia-cuda-nvrtc-cu12-12.4.127 nvidia-cuda-runtime-cu12-12.4.127 nvidia-cudnn-cu12-9.1.0.70 nvidia-cufft-cu12-11.2.1.3 nvidia-curand-cu12-10.3.5.147 nvidia-cusolver-cu12-11.6.1.9 nvidia-cusparse-cu12-12.3.1.170 nvidia-nvjitlink-cu12-12.4.127 pandas-2.2.3 pillow-11.2.1\n"
          ]
        },
        {
          "output_type": "display_data",
          "data": {
            "application/vnd.colab-display-data+json": {
              "pip_warning": {
                "packages": [
                  "PIL"
                ]
              },
              "id": "b06b4de71cd345a2b6ecc4d8f99fd35a"
            }
          },
          "metadata": {}
        }
      ],
      "execution_count": null
    },
    {
      "cell_type": "markdown",
      "source": [
        "# Импорт библиотек"
      ],
      "metadata": {
        "id": "EBgNgy42vs6C"
      }
    },
    {
      "cell_type": "code",
      "source": [
        "import os\n",
        "import pandas as pd\n",
        "from PIL import Image\n",
        "import torch\n",
        "import torch.nn as nn\n",
        "import torch.optim as optim\n",
        "from sklearn.model_selection import train_test_split\n",
        "import matplotlib.pyplot as plt\n",
        "from torch.utils.data import Dataset, DataLoader, Subset, ConcatDataset\n",
        "from torchvision import transforms\n",
        "from sklearn.metrics import f1_score\n",
        "import numpy as np\n",
        "from torchsummary import summary\n",
        "from google.colab import drive\n",
        "import shutil"
      ],
      "metadata": {
        "id": "wC81477Payys"
      },
      "execution_count": null,
      "outputs": []
    },
    {
      "cell_type": "markdown",
      "source": [
        "# Baseline обработки картинок"
      ],
      "metadata": {
        "id": "Skmjh0IgnnAN"
      }
    },
    {
      "cell_type": "markdown",
      "source": [
        "Как выяснилоь, было необходимо предсказывать не 20 классов, а 16, т.к. 4 из этих 20 просто не имели ни одного примера. Однако гораздо критичнее влиял баланс классов, ибо были классы по количеству примеров в несколько раз больше других."
      ],
      "metadata": {
        "id": "ZDR78wguScWT"
      }
    },
    {
      "cell_type": "code",
      "source": [
        "# Класс для трейновых данных\n",
        "class TrainDataset(Dataset):\n",
        "    def __init__(self, img_dir, csv_path, transform=None):\n",
        "        self.img_dir = img_dir\n",
        "        self.df = pd.read_csv(csv_path)\n",
        "        self.transform = transform\n",
        "\n",
        "    def __len__(self):\n",
        "        return len(self.df)\n",
        "\n",
        "    def __getitem__(self, idx):\n",
        "        file_id = str(self.df.iloc[idx, 0])\n",
        "        img_name = os.path.join(self.img_dir, f\"{file_id}.jpg\")\n",
        "\n",
        "        image = Image.open(img_name).convert('RGB')\n",
        "        label = self.df.iloc[idx, 1]\n",
        "\n",
        "        if self.transform:\n",
        "            image = self.transform(image)\n",
        "\n",
        "        return image, label\n",
        "\n",
        "# Класс для Тестовых данных\n",
        "\n",
        "class TestDataset(Dataset):\n",
        "    def __init__(self, img_dir, transform=None):\n",
        "        self.img_dir = img_dir\n",
        "        self.img_list = os.listdir(img_dir)\n",
        "        self.transform = transform\n",
        "\n",
        "    def __len__(self):\n",
        "        return len(self.img_list)\n",
        "\n",
        "    def __getitem__(self, idx):\n",
        "        img_name = os.path.join(self.img_dir, self.img_list[idx])\n",
        "        image = Image.open(img_name).convert('RGB')\n",
        "\n",
        "        if self.transform:\n",
        "            image = self.transform(image)\n",
        "\n",
        "        return image\n",
        "\n",
        "\n",
        "# Константы\n",
        "\n",
        "\n",
        "DATA_DIR = \"/root/.cache/kagglehub/competitions/ml-intensive-yandex-academy-spring-2025/human_poses_data\"\n",
        "CSV_PATH = os.path.join(DATA_DIR, 'train_answers.csv')\n",
        "IMG_DIR = os.path.join(DATA_DIR, 'img_train')\n",
        "TEST_DIR = os.path.join(DATA_DIR, 'img_test')\n",
        "\n",
        "# Трансформация изображений\n",
        "\n",
        "transform = transforms.Compose([\n",
        "    transforms.Resize((896, 896)),\n",
        "    transforms.ToTensor(),\n",
        "    transforms.Normalize(mean=[0.485, 0.456, 0.406], std=[0.229, 0.224, 0.225])\n",
        "])\n",
        "\n",
        "train_dataset = TrainDataset(\n",
        "    img_dir=IMG_DIR,\n",
        "    csv_path=CSV_PATH,\n",
        "    transform=transform\n",
        ")\n",
        "\n",
        "labels = train_dataset.df.iloc[:, 1].tolist()\n",
        "\n",
        "# Разделение данных на валидационные и трейновые\n",
        "\n",
        "train_idx, val_idx = train_test_split(\n",
        "    range(len(labels)),\n",
        "    test_size=0.2,\n",
        "    stratify=labels,\n",
        "    random_state=42\n",
        ")\n",
        "\n",
        "train_subset = Subset(train_dataset, train_idx)\n",
        "val_subset = Subset(train_dataset, val_idx)\n",
        "\n",
        "test_dataset = TestDataset(\n",
        "    img_dir=TEST_DIR,\n",
        "    transform=transform\n",
        ")\n",
        "\n",
        "BATCH_SIZE = 32\n",
        "NUM_WORKERS = 2\n",
        "\n",
        "train_loader = DataLoader(\n",
        "    train_subset,\n",
        "    batch_size=BATCH_SIZE,\n",
        "    shuffle=True,\n",
        "    num_workers=NUM_WORKERS\n",
        ")\n",
        "\n",
        "val_loader = DataLoader(\n",
        "    val_subset,\n",
        "    batch_size=BATCH_SIZE,\n",
        "    shuffle=False,\n",
        "    num_workers=NUM_WORKERS\n",
        ")\n",
        "\n",
        "test_loader = DataLoader(\n",
        "    test_dataset,\n",
        "    batch_size=BATCH_SIZE,\n",
        "    shuffle=False,\n",
        "    num_workers=NUM_WORKERS\n",
        ")"
      ],
      "metadata": {
        "id": "acFvWO_LYgoS"
      },
      "execution_count": null,
      "outputs": []
    },
    {
      "cell_type": "markdown",
      "source": [
        "# Архитектура модели"
      ],
      "metadata": {
        "id": "5tb3WkGdnn_j"
      }
    },
    {
      "cell_type": "markdown",
      "source": [
        "\n",
        "\n",
        "---\n",
        "\n",
        "**Будет использована модель ResNet-18 с SEblock, для повышения точности при помощи механизма канального внимания**\n",
        "\n",
        "\n",
        "---\n",
        "\n",
        "Канальное внимание помогает модели классифицировать данные лучше, т.к. SEBlock динамически вычисляет веса для каждого канала, фокусируясь на важных.\n",
        "\n",
        "\n",
        "---\n",
        "\n"
      ],
      "metadata": {
        "id": "j-2GtuxmXvgn"
      }
    },
    {
      "cell_type": "code",
      "source": [
        "class SEBlock(nn.Module):\n",
        "    def __init__(self, channels, reduction=16, dropout_p=0.2):\n",
        "        super().__init__()\n",
        "        self.fc = nn.Sequential(\n",
        "            nn.Linear(channels, channels // reduction),\n",
        "            nn.ReLU(inplace=True),\n",
        "            nn.Dropout(dropout_p),\n",
        "            nn.Linear(channels // reduction, channels),\n",
        "            nn.Sigmoid()\n",
        "        )\n",
        "\n",
        "    def forward(self, x):\n",
        "        b, c, _, _ = x.size()\n",
        "        y = x.mean((2, 3))\n",
        "        y = self.fc(y).view(b, c, 1, 1)\n",
        "        return x * y.expand_as(x)\n",
        "\n",
        "\n",
        "# Блок для построения архитектуры\n",
        "\n",
        "\n",
        "class BasicBlock(nn.Module):\n",
        "    expansion = 1\n",
        "\n",
        "    def __init__(self, in_channels, out_channels, stride=1, dropout_p=0.3):\n",
        "        super().__init__()\n",
        "        self.conv1 = nn.Conv2d(in_channels, out_channels, 3, stride, 1, bias=False)\n",
        "        self.bn1 = nn.BatchNorm2d(out_channels)\n",
        "        self.conv2 = nn.Conv2d(out_channels, out_channels, 3, 1, 1, bias=False)\n",
        "        self.bn2 = nn.BatchNorm2d(out_channels)\n",
        "        self.relu = nn.ReLU(inplace=True)\n",
        "        self.dropout = nn.Dropout(dropout_p)\n",
        "\n",
        "        self.shortcut = nn.Sequential()\n",
        "        if stride != 1 or in_channels != self.expansion*out_channels:\n",
        "            self.shortcut = nn.Sequential(\n",
        "                nn.Conv2d(in_channels, self.expansion*out_channels, 1, stride, bias=False),\n",
        "                nn.BatchNorm2d(self.expansion*out_channels)\n",
        "            )\n",
        "        self.se = SEBlock(out_channels, dropout_p=dropout_p)\n",
        "\n",
        "    def forward(self, x):\n",
        "        out = self.relu(self.bn1(self.conv1(x)))\n",
        "        out = self.dropout(out)\n",
        "        out = self.bn2(self.conv2(out))\n",
        "        out = self.se(out)\n",
        "        out += self.shortcut(x)\n",
        "        out = self.relu(out)\n",
        "        return out\n",
        "\n",
        "\n",
        "# Основаня архитектура\n",
        "\n",
        "\n",
        "class ResNet(nn.Module):\n",
        "    def __init__(self, block, num_blocks, num_classes, dropout_p=0.3):\n",
        "        super().__init__()\n",
        "        self.in_channels = 64\n",
        "        self.dropout_p = dropout_p\n",
        "\n",
        "        self.conv1 = nn.Conv2d(3, 64, 7, 2, 3, bias=False)\n",
        "        self.bn1 = nn.BatchNorm2d(64)\n",
        "        self.relu = nn.ReLU(inplace=True)\n",
        "        self.maxpool = nn.MaxPool2d(3, 2, 1)\n",
        "\n",
        "        self.layer1 = self._make_layer(block, 64, num_blocks[0], 1)\n",
        "        self.layer2 = self._make_layer(block, 128, num_blocks[1], 2)\n",
        "        self.layer3 = self._make_layer(block, 256, num_blocks[2], 2)\n",
        "        self.layer4 = self._make_layer(block, 512, num_blocks[3], 2)\n",
        "\n",
        "        self.avgpool = nn.AdaptiveAvgPool2d((1, 1))\n",
        "        self.dropout = nn.Dropout(dropout_p)\n",
        "        self.fc = nn.Linear(512 * block.expansion, num_classes)\n",
        "\n",
        "    def _make_layer(self, block, out_channels, num_blocks, stride):\n",
        "        strides = [stride] + [1]*(num_blocks-1)\n",
        "        layers = []\n",
        "        for stride in strides:\n",
        "            layers.append(block(self.in_channels, out_channels, stride, self.dropout_p))\n",
        "            self.in_channels = out_channels * block.expansion\n",
        "        return nn.Sequential(*layers)\n",
        "\n",
        "    def forward(self, x):\n",
        "        x = self.relu(self.bn1(self.conv1(x)))\n",
        "        x = self.maxpool(x)\n",
        "\n",
        "        x = self.layer1(x)\n",
        "        x = self.layer2(x)\n",
        "        x = self.layer3(x)\n",
        "        x = self.layer4(x)\n",
        "\n",
        "        x = self.avgpool(x)\n",
        "        x = torch.flatten(x, 1)\n",
        "        x = self.dropout(x)\n",
        "        x = self.fc(x)\n",
        "        return x"
      ],
      "metadata": {
        "id": "_HlwhFjHSXfP"
      },
      "execution_count": null,
      "outputs": []
    },
    {
      "cell_type": "markdown",
      "source": [
        "# Функция обучения"
      ],
      "metadata": {
        "id": "XujqhvHZn5uW"
      }
    },
    {
      "cell_type": "code",
      "source": [
        "def train_model(model, train_loader, val_loader, num_epochs=30, lr=0.001):\n",
        "    device = torch.device('cuda' if torch.cuda.is_available() else 'cpu')\n",
        "    model = model.to(device)\n",
        "\n",
        "    criterion = nn.CrossEntropyLoss()\n",
        "    optimizer = optim.Adam(model.parameters(), lr=lr)\n",
        "\n",
        "    train_losses, val_losses = [], []\n",
        "    train_f1, val_f1 = [], []\n",
        "    best_f1 = 0.0\n",
        "\n",
        "    drive.mount('/content/drive')\n",
        "    drive_folder = '/content/drive/MyDrive/Colab Models'\n",
        "    !mkdir -p \"{drive_folder}\"\n",
        "\n",
        "    for epoch in range(num_epochs):\n",
        "        model.train()\n",
        "        running_loss = 0.0\n",
        "        all_preds = []\n",
        "        all_labels = []\n",
        "\n",
        "        for images, labels in train_loader:\n",
        "            images, labels = images.to(device), labels.to(device)\n",
        "\n",
        "            optimizer.zero_grad()\n",
        "            outputs = model(images)\n",
        "            loss = criterion(outputs, labels)\n",
        "            loss.backward()\n",
        "            optimizer.step()\n",
        "\n",
        "            running_loss += loss.item()\n",
        "            _, preds = torch.max(outputs, 1)\n",
        "            all_preds.extend(preds.cpu().numpy())\n",
        "            all_labels.extend(labels.cpu().numpy())\n",
        "\n",
        "        train_loss = running_loss / len(train_loader)\n",
        "        epoch_f1 = f1_score(all_labels, all_preds, average='macro')\n",
        "        train_f1.append(epoch_f1)\n",
        "        train_losses.append(train_loss)\n",
        "\n",
        "        model.eval()\n",
        "        val_loss = 0.0\n",
        "        val_preds = []\n",
        "        val_labels = []\n",
        "\n",
        "        with torch.no_grad():\n",
        "            for images, labels in val_loader:\n",
        "                images, labels = images.to(device), labels.to(device)\n",
        "                outputs = model(images)\n",
        "                loss = criterion(outputs, labels)\n",
        "\n",
        "                val_loss += loss.item()\n",
        "                _, preds = torch.max(outputs, 1)\n",
        "                val_preds.extend(preds.cpu().numpy())\n",
        "                val_labels.extend(labels.cpu().numpy())\n",
        "\n",
        "        val_loss = val_loss / len(val_loader)\n",
        "        val_epoch_f1 = f1_score(val_labels, val_preds, average='macro')\n",
        "        val_f1.append(val_epoch_f1)\n",
        "        val_losses.append(val_loss)\n",
        "\n",
        "        if val_epoch_f1 > best_f1:\n",
        "            best_f1 = val_epoch_f1\n",
        "            torch.save(model.state_dict(), 'best_model.pth')\n",
        "            model_source = 'best_model.pth'\n",
        "            drive_folder = '/content/drive/MyDrive/Colab Models'\n",
        "            model_destination = f'{drive_folder}/best_model.pth'\n",
        "            shutil.copy(model_source, model_destination)\n",
        "            print(f'New best model saved! F1: {best_f1:.4f}')\n",
        "\n",
        "        print(f'Epoch [{epoch+1}/{num_epochs}]')\n",
        "        print(f'Train Loss: {train_loss:.4f} | Val Loss: {val_loss:.4f}')\n",
        "        print(f'Train F1: {epoch_f1:.4f} | Val F1: {val_epoch_f1:.4f}')\n",
        "        print('-' * 60)\n",
        "\n",
        "    plt.figure(figsize=(12, 5))\n",
        "    plt.subplot(1, 2, 1)\n",
        "    plt.plot(train_losses, label='Train Loss')\n",
        "    plt.plot(val_losses, label='Val Loss')\n",
        "    plt.title('Loss Curves')\n",
        "    plt.legend()\n",
        "\n",
        "    plt.subplot(1, 2, 2)\n",
        "    plt.plot(train_f1, label='Train F1')\n",
        "    plt.plot(val_f1, label='Val F1')\n",
        "    plt.title('F1 Score Curves')\n",
        "    plt.legend()\n",
        "\n",
        "    plt.show()\n",
        "\n",
        "    return model"
      ],
      "metadata": {
        "id": "oRzXWKACb3PG"
      },
      "execution_count": null,
      "outputs": []
    },
    {
      "cell_type": "markdown",
      "source": [
        "# Вывод summary модели"
      ],
      "metadata": {
        "id": "35TK1YQ2pztS"
      }
    },
    {
      "cell_type": "code",
      "source": [
        "device = torch.device('cuda' if torch.cuda.is_available() else 'cpu')\n",
        "\n",
        "model = ResNet(BasicBlock, [2,2,2,2], num_classes=16).to(device)\n",
        "\n",
        "print(summary(\n",
        "    model,\n",
        "    input_size=(3, 896, 896),\n",
        "    device='cuda'\n",
        "))"
      ],
      "metadata": {
        "colab": {
          "base_uri": "https://localhost:8080/"
        },
        "id": "lHxKuqZ1p4X1",
        "outputId": "5ebef48f-1b73-4468-83b9-51a23be7674c"
      },
      "execution_count": null,
      "outputs": [
        {
          "output_type": "stream",
          "name": "stdout",
          "text": [
            "----------------------------------------------------------------\n",
            "        Layer (type)               Output Shape         Param #\n",
            "================================================================\n",
            "            Conv2d-1         [-1, 64, 448, 448]           9,408\n",
            "       BatchNorm2d-2         [-1, 64, 448, 448]             128\n",
            "              ReLU-3         [-1, 64, 448, 448]               0\n",
            "         MaxPool2d-4         [-1, 64, 224, 224]               0\n",
            "            Conv2d-5         [-1, 64, 224, 224]          36,864\n",
            "       BatchNorm2d-6         [-1, 64, 224, 224]             128\n",
            "              ReLU-7         [-1, 64, 224, 224]               0\n",
            "           Dropout-8         [-1, 64, 224, 224]               0\n",
            "            Conv2d-9         [-1, 64, 224, 224]          36,864\n",
            "      BatchNorm2d-10         [-1, 64, 224, 224]             128\n",
            "           Linear-11                    [-1, 4]             260\n",
            "             ReLU-12                    [-1, 4]               0\n",
            "          Dropout-13                    [-1, 4]               0\n",
            "           Linear-14                   [-1, 64]             320\n",
            "          Sigmoid-15                   [-1, 64]               0\n",
            "          SEBlock-16         [-1, 64, 224, 224]               0\n",
            "             ReLU-17         [-1, 64, 224, 224]               0\n",
            "       BasicBlock-18         [-1, 64, 224, 224]               0\n",
            "           Conv2d-19         [-1, 64, 224, 224]          36,864\n",
            "      BatchNorm2d-20         [-1, 64, 224, 224]             128\n",
            "             ReLU-21         [-1, 64, 224, 224]               0\n",
            "          Dropout-22         [-1, 64, 224, 224]               0\n",
            "           Conv2d-23         [-1, 64, 224, 224]          36,864\n",
            "      BatchNorm2d-24         [-1, 64, 224, 224]             128\n",
            "           Linear-25                    [-1, 4]             260\n",
            "             ReLU-26                    [-1, 4]               0\n",
            "          Dropout-27                    [-1, 4]               0\n",
            "           Linear-28                   [-1, 64]             320\n",
            "          Sigmoid-29                   [-1, 64]               0\n",
            "          SEBlock-30         [-1, 64, 224, 224]               0\n",
            "             ReLU-31         [-1, 64, 224, 224]               0\n",
            "       BasicBlock-32         [-1, 64, 224, 224]               0\n",
            "           Conv2d-33        [-1, 128, 112, 112]          73,728\n",
            "      BatchNorm2d-34        [-1, 128, 112, 112]             256\n",
            "             ReLU-35        [-1, 128, 112, 112]               0\n",
            "          Dropout-36        [-1, 128, 112, 112]               0\n",
            "           Conv2d-37        [-1, 128, 112, 112]         147,456\n",
            "      BatchNorm2d-38        [-1, 128, 112, 112]             256\n",
            "           Linear-39                    [-1, 8]           1,032\n",
            "             ReLU-40                    [-1, 8]               0\n",
            "          Dropout-41                    [-1, 8]               0\n",
            "           Linear-42                  [-1, 128]           1,152\n",
            "          Sigmoid-43                  [-1, 128]               0\n",
            "          SEBlock-44        [-1, 128, 112, 112]               0\n",
            "           Conv2d-45        [-1, 128, 112, 112]           8,192\n",
            "      BatchNorm2d-46        [-1, 128, 112, 112]             256\n",
            "             ReLU-47        [-1, 128, 112, 112]               0\n",
            "       BasicBlock-48        [-1, 128, 112, 112]               0\n",
            "           Conv2d-49        [-1, 128, 112, 112]         147,456\n",
            "      BatchNorm2d-50        [-1, 128, 112, 112]             256\n",
            "             ReLU-51        [-1, 128, 112, 112]               0\n",
            "          Dropout-52        [-1, 128, 112, 112]               0\n",
            "           Conv2d-53        [-1, 128, 112, 112]         147,456\n",
            "      BatchNorm2d-54        [-1, 128, 112, 112]             256\n",
            "           Linear-55                    [-1, 8]           1,032\n",
            "             ReLU-56                    [-1, 8]               0\n",
            "          Dropout-57                    [-1, 8]               0\n",
            "           Linear-58                  [-1, 128]           1,152\n",
            "          Sigmoid-59                  [-1, 128]               0\n",
            "          SEBlock-60        [-1, 128, 112, 112]               0\n",
            "             ReLU-61        [-1, 128, 112, 112]               0\n",
            "       BasicBlock-62        [-1, 128, 112, 112]               0\n",
            "           Conv2d-63          [-1, 256, 56, 56]         294,912\n",
            "      BatchNorm2d-64          [-1, 256, 56, 56]             512\n",
            "             ReLU-65          [-1, 256, 56, 56]               0\n",
            "          Dropout-66          [-1, 256, 56, 56]               0\n",
            "           Conv2d-67          [-1, 256, 56, 56]         589,824\n",
            "      BatchNorm2d-68          [-1, 256, 56, 56]             512\n",
            "           Linear-69                   [-1, 16]           4,112\n",
            "             ReLU-70                   [-1, 16]               0\n",
            "          Dropout-71                   [-1, 16]               0\n",
            "           Linear-72                  [-1, 256]           4,352\n",
            "          Sigmoid-73                  [-1, 256]               0\n",
            "          SEBlock-74          [-1, 256, 56, 56]               0\n",
            "           Conv2d-75          [-1, 256, 56, 56]          32,768\n",
            "      BatchNorm2d-76          [-1, 256, 56, 56]             512\n",
            "             ReLU-77          [-1, 256, 56, 56]               0\n",
            "       BasicBlock-78          [-1, 256, 56, 56]               0\n",
            "           Conv2d-79          [-1, 256, 56, 56]         589,824\n",
            "      BatchNorm2d-80          [-1, 256, 56, 56]             512\n",
            "             ReLU-81          [-1, 256, 56, 56]               0\n",
            "          Dropout-82          [-1, 256, 56, 56]               0\n",
            "           Conv2d-83          [-1, 256, 56, 56]         589,824\n",
            "      BatchNorm2d-84          [-1, 256, 56, 56]             512\n",
            "           Linear-85                   [-1, 16]           4,112\n",
            "             ReLU-86                   [-1, 16]               0\n",
            "          Dropout-87                   [-1, 16]               0\n",
            "           Linear-88                  [-1, 256]           4,352\n",
            "          Sigmoid-89                  [-1, 256]               0\n",
            "          SEBlock-90          [-1, 256, 56, 56]               0\n",
            "             ReLU-91          [-1, 256, 56, 56]               0\n",
            "       BasicBlock-92          [-1, 256, 56, 56]               0\n",
            "           Conv2d-93          [-1, 512, 28, 28]       1,179,648\n",
            "      BatchNorm2d-94          [-1, 512, 28, 28]           1,024\n",
            "             ReLU-95          [-1, 512, 28, 28]               0\n",
            "          Dropout-96          [-1, 512, 28, 28]               0\n",
            "           Conv2d-97          [-1, 512, 28, 28]       2,359,296\n",
            "      BatchNorm2d-98          [-1, 512, 28, 28]           1,024\n",
            "           Linear-99                   [-1, 32]          16,416\n",
            "            ReLU-100                   [-1, 32]               0\n",
            "         Dropout-101                   [-1, 32]               0\n",
            "          Linear-102                  [-1, 512]          16,896\n",
            "         Sigmoid-103                  [-1, 512]               0\n",
            "         SEBlock-104          [-1, 512, 28, 28]               0\n",
            "          Conv2d-105          [-1, 512, 28, 28]         131,072\n",
            "     BatchNorm2d-106          [-1, 512, 28, 28]           1,024\n",
            "            ReLU-107          [-1, 512, 28, 28]               0\n",
            "      BasicBlock-108          [-1, 512, 28, 28]               0\n",
            "          Conv2d-109          [-1, 512, 28, 28]       2,359,296\n",
            "     BatchNorm2d-110          [-1, 512, 28, 28]           1,024\n",
            "            ReLU-111          [-1, 512, 28, 28]               0\n",
            "         Dropout-112          [-1, 512, 28, 28]               0\n",
            "          Conv2d-113          [-1, 512, 28, 28]       2,359,296\n",
            "     BatchNorm2d-114          [-1, 512, 28, 28]           1,024\n",
            "          Linear-115                   [-1, 32]          16,416\n",
            "            ReLU-116                   [-1, 32]               0\n",
            "         Dropout-117                   [-1, 32]               0\n",
            "          Linear-118                  [-1, 512]          16,896\n",
            "         Sigmoid-119                  [-1, 512]               0\n",
            "         SEBlock-120          [-1, 512, 28, 28]               0\n",
            "            ReLU-121          [-1, 512, 28, 28]               0\n",
            "      BasicBlock-122          [-1, 512, 28, 28]               0\n",
            "AdaptiveAvgPool2d-123            [-1, 512, 1, 1]               0\n",
            "         Dropout-124                  [-1, 512]               0\n",
            "          Linear-125                   [-1, 20]          10,260\n",
            "================================================================\n",
            "Total params: 11,275,852\n",
            "Trainable params: 11,275,852\n",
            "Non-trainable params: 0\n",
            "----------------------------------------------------------------\n",
            "Input size (MB): 9.19\n",
            "Forward/backward pass size (MB): 1188.29\n",
            "Params size (MB): 43.01\n",
            "Estimated Total Size (MB): 1240.49\n",
            "----------------------------------------------------------------\n",
            "None\n"
          ]
        }
      ]
    },
    {
      "cell_type": "markdown",
      "source": [
        "# Обучение модели"
      ],
      "metadata": {
        "id": "Brly8Vpdn8px"
      }
    },
    {
      "cell_type": "markdown",
      "source": [
        "## 1 Этап"
      ],
      "metadata": {
        "id": "Oeb-S6aQAZ7K"
      }
    },
    {
      "cell_type": "markdown",
      "source": [
        "начало обучения, но т.к. ресурсы ограничены этапов будет несколько."
      ],
      "metadata": {
        "id": "yjb9jrQVaYVk"
      }
    },
    {
      "cell_type": "code",
      "source": [
        "train_model(model, train_loader, val_loader, num_epochs=50, lr=0.001)"
      ],
      "metadata": {
        "colab": {
          "base_uri": "https://localhost:8080/"
        },
        "id": "8ptHDM-VbDaH",
        "outputId": "59ec2103-494a-421a-bf80-137608fed231"
      },
      "execution_count": null,
      "outputs": [
        {
          "output_type": "stream",
          "name": "stdout",
          "text": [
            "New best model saved! F1: 0.1332\n",
            "Epoch [1/50]\n",
            "Train Loss: 2.3704 | Val Loss: 2.2786\n",
            "Train F1: 0.1127 | Val F1: 0.1332\n",
            "------------------------------------------------------------\n",
            "New best model saved! F1: 0.1392\n",
            "Epoch [2/50]\n",
            "Train Loss: 2.2442 | Val Loss: 2.2835\n",
            "Train F1: 0.1505 | Val F1: 0.1392\n",
            "------------------------------------------------------------\n",
            "New best model saved! F1: 0.1703\n",
            "Epoch [3/50]\n",
            "Train Loss: 2.1736 | Val Loss: 2.1373\n",
            "Train F1: 0.1778 | Val F1: 0.1703\n",
            "------------------------------------------------------------\n",
            "New best model saved! F1: 0.1979\n",
            "Epoch [4/50]\n",
            "Train Loss: 2.0972 | Val Loss: 2.0896\n",
            "Train F1: 0.2027 | Val F1: 0.1979\n",
            "------------------------------------------------------------\n",
            "New best model saved! F1: 0.2359\n",
            "Epoch [5/50]\n",
            "Train Loss: 2.0289 | Val Loss: 1.9858\n",
            "Train F1: 0.2240 | Val F1: 0.2359\n",
            "------------------------------------------------------------\n",
            "New best model saved! F1: 0.2496\n",
            "Epoch [6/50]\n",
            "Train Loss: 1.9675 | Val Loss: 1.9544\n",
            "Train F1: 0.2365 | Val F1: 0.2496\n",
            "------------------------------------------------------------\n",
            "Epoch [7/50]\n",
            "Train Loss: 1.9218 | Val Loss: 1.9452\n",
            "Train F1: 0.2587 | Val F1: 0.2126\n",
            "------------------------------------------------------------\n",
            "New best model saved! F1: 0.2594\n",
            "Epoch [8/50]\n",
            "Train Loss: 1.8709 | Val Loss: 1.8955\n",
            "Train F1: 0.2750 | Val F1: 0.2594\n",
            "------------------------------------------------------------\n",
            "New best model saved! F1: 0.3388\n",
            "Epoch [9/50]\n",
            "Train Loss: 1.8153 | Val Loss: 1.7668\n",
            "Train F1: 0.2974 | Val F1: 0.3388\n",
            "------------------------------------------------------------\n",
            "Epoch [10/50]\n",
            "Train Loss: 1.7650 | Val Loss: 1.6991\n",
            "Train F1: 0.3139 | Val F1: 0.3382\n",
            "------------------------------------------------------------\n",
            "Epoch [11/50]\n",
            "Train Loss: 1.6962 | Val Loss: 1.8151\n",
            "Train F1: 0.3422 | Val F1: 0.2983\n",
            "------------------------------------------------------------\n",
            "New best model saved! F1: 0.3525\n",
            "Epoch [12/50]\n",
            "Train Loss: 1.6430 | Val Loss: 1.7088\n",
            "Train F1: 0.3727 | Val F1: 0.3525\n",
            "------------------------------------------------------------\n",
            "New best model saved! F1: 0.3873\n",
            "Epoch [13/50]\n",
            "Train Loss: 1.5828 | Val Loss: 1.5696\n",
            "Train F1: 0.3939 | Val F1: 0.3873\n",
            "------------------------------------------------------------\n"
          ]
        }
      ]
    },
    {
      "cell_type": "markdown",
      "source": [
        "## 2 Этап"
      ],
      "metadata": {
        "id": "Nhb1rAWnAhiT"
      }
    },
    {
      "cell_type": "markdown",
      "source": [
        "Продолжаем учить. Загружаем лучшую модель и поехали."
      ],
      "metadata": {
        "id": "vusLXaaHagV5"
      }
    },
    {
      "cell_type": "code",
      "source": [
        "model.load_state_dict(torch.load('best_model(1).pth'))"
      ],
      "metadata": {
        "colab": {
          "base_uri": "https://localhost:8080/"
        },
        "id": "gX5ezNroAKZY",
        "outputId": "62ac2718-7a89-4f92-a6f3-a698af10b519"
      },
      "execution_count": null,
      "outputs": [
        {
          "output_type": "execute_result",
          "data": {
            "text/plain": [
              "<All keys matched successfully>"
            ]
          },
          "metadata": {},
          "execution_count": 11
        }
      ]
    },
    {
      "cell_type": "code",
      "source": [
        "train_model(model, train_loader, val_loader, num_epochs=50, lr=0.001)"
      ],
      "metadata": {
        "colab": {
          "base_uri": "https://localhost:8080/",
          "height": 1000
        },
        "id": "3rXyxmthAlL3",
        "outputId": "486e9693-76a9-4090-f177-0b89dda4e613"
      },
      "execution_count": null,
      "outputs": [
        {
          "output_type": "stream",
          "name": "stdout",
          "text": [
            "New best model saved! F1: 0.3913\n",
            "Epoch [1/50]\n",
            "Train Loss: 1.5075 | Val Loss: 1.6905\n",
            "Train F1: 0.4222 | Val F1: 0.3913\n",
            "------------------------------------------------------------\n",
            "Epoch [2/50]\n",
            "Train Loss: 1.4598 | Val Loss: 1.6560\n",
            "Train F1: 0.4395 | Val F1: 0.3912\n",
            "------------------------------------------------------------\n",
            "New best model saved! F1: 0.4549\n",
            "Epoch [3/50]\n",
            "Train Loss: 1.3735 | Val Loss: 1.4961\n",
            "Train F1: 0.4700 | Val F1: 0.4549\n",
            "------------------------------------------------------------\n",
            "New best model saved! F1: 0.4638\n",
            "Epoch [4/50]\n",
            "Train Loss: 1.3334 | Val Loss: 1.4878\n",
            "Train F1: 0.4906 | Val F1: 0.4638\n",
            "------------------------------------------------------------\n",
            "New best model saved! F1: 0.4705\n",
            "Epoch [5/50]\n",
            "Train Loss: 1.2612 | Val Loss: 1.4395\n",
            "Train F1: 0.5223 | Val F1: 0.4705\n",
            "------------------------------------------------------------\n",
            "New best model saved! F1: 0.4707\n",
            "Epoch [6/50]\n",
            "Train Loss: 1.2114 | Val Loss: 1.4710\n",
            "Train F1: 0.5322 | Val F1: 0.4707\n",
            "------------------------------------------------------------\n",
            "New best model saved! F1: 0.4922\n",
            "Epoch [7/50]\n",
            "Train Loss: 1.1640 | Val Loss: 1.4143\n",
            "Train F1: 0.5484 | Val F1: 0.4922\n",
            "------------------------------------------------------------\n",
            "New best model saved! F1: 0.5120\n",
            "Epoch [8/50]\n",
            "Train Loss: 1.1077 | Val Loss: 1.4367\n",
            "Train F1: 0.5713 | Val F1: 0.5120\n",
            "------------------------------------------------------------\n",
            "Epoch [9/50]\n",
            "Train Loss: 1.0578 | Val Loss: 1.5869\n",
            "Train F1: 0.5878 | Val F1: 0.4596\n",
            "------------------------------------------------------------\n",
            "Epoch [10/50]\n",
            "Train Loss: 1.0016 | Val Loss: 1.5205\n",
            "Train F1: 0.6114 | Val F1: 0.4895\n",
            "------------------------------------------------------------\n",
            "New best model saved! F1: 0.5575\n",
            "Epoch [11/50]\n",
            "Train Loss: 0.9504 | Val Loss: 1.2912\n",
            "Train F1: 0.6210 | Val F1: 0.5575\n",
            "------------------------------------------------------------\n",
            "New best model saved! F1: 0.5780\n",
            "Epoch [12/50]\n",
            "Train Loss: 0.9000 | Val Loss: 1.3053\n",
            "Train F1: 0.6508 | Val F1: 0.5780\n",
            "------------------------------------------------------------\n",
            "Epoch [13/50]\n",
            "Train Loss: 0.8508 | Val Loss: 1.2850\n",
            "Train F1: 0.6711 | Val F1: 0.5577\n",
            "------------------------------------------------------------\n",
            "New best model saved! F1: 0.5797\n",
            "Epoch [14/50]\n",
            "Train Loss: 0.7887 | Val Loss: 1.2394\n",
            "Train F1: 0.6889 | Val F1: 0.5797\n",
            "------------------------------------------------------------\n",
            "Epoch [15/50]\n",
            "Train Loss: 0.7569 | Val Loss: 1.3755\n",
            "Train F1: 0.6932 | Val F1: 0.5660\n",
            "------------------------------------------------------------\n",
            "Epoch [16/50]\n",
            "Train Loss: 0.7151 | Val Loss: 1.4985\n",
            "Train F1: 0.7137 | Val F1: 0.5358\n",
            "------------------------------------------------------------\n",
            "New best model saved! F1: 0.5855\n",
            "Epoch [17/50]\n",
            "Train Loss: 0.6684 | Val Loss: 1.3444\n",
            "Train F1: 0.7299 | Val F1: 0.5855\n",
            "------------------------------------------------------------\n",
            "Epoch [18/50]\n",
            "Train Loss: 0.6019 | Val Loss: 1.3577\n",
            "Train F1: 0.7598 | Val F1: 0.5681\n",
            "------------------------------------------------------------\n",
            "New best model saved! F1: 0.5993\n",
            "Epoch [19/50]\n",
            "Train Loss: 0.5871 | Val Loss: 1.3071\n",
            "Train F1: 0.7694 | Val F1: 0.5993\n",
            "------------------------------------------------------------\n",
            "New best model saved! F1: 0.6148\n",
            "Epoch [20/50]\n",
            "Train Loss: 0.5527 | Val Loss: 1.2941\n",
            "Train F1: 0.7750 | Val F1: 0.6148\n",
            "------------------------------------------------------------\n",
            "Epoch [21/50]\n",
            "Train Loss: 0.5164 | Val Loss: 1.4199\n",
            "Train F1: 0.7975 | Val F1: 0.6001\n",
            "------------------------------------------------------------\n",
            "Epoch [22/50]\n",
            "Train Loss: 0.4956 | Val Loss: 1.3874\n",
            "Train F1: 0.8034 | Val F1: 0.6048\n",
            "------------------------------------------------------------\n",
            "New best model saved! F1: 0.6383\n",
            "Epoch [23/50]\n",
            "Train Loss: 0.4492 | Val Loss: 1.2695\n",
            "Train F1: 0.8104 | Val F1: 0.6383\n",
            "------------------------------------------------------------\n",
            "Epoch [24/50]\n",
            "Train Loss: 0.4233 | Val Loss: 1.2962\n",
            "Train F1: 0.8309 | Val F1: 0.6360\n",
            "------------------------------------------------------------\n",
            "Epoch [25/50]\n",
            "Train Loss: 0.4176 | Val Loss: 1.2906\n",
            "Train F1: 0.8314 | Val F1: 0.6348\n",
            "------------------------------------------------------------\n",
            "Epoch [26/50]\n",
            "Train Loss: 0.3893 | Val Loss: 1.3808\n",
            "Train F1: 0.8364 | Val F1: 0.6315\n",
            "------------------------------------------------------------\n"
          ]
        },
        {
          "output_type": "error",
          "ename": "KeyboardInterrupt",
          "evalue": "",
          "traceback": [
            "\u001b[0;31m---------------------------------------------------------------------------\u001b[0m",
            "\u001b[0;31mKeyboardInterrupt\u001b[0m                         Traceback (most recent call last)",
            "\u001b[0;32m<ipython-input-12-0e4b20a6cfa8>\u001b[0m in \u001b[0;36m<cell line: 0>\u001b[0;34m()\u001b[0m\n\u001b[0;32m----> 1\u001b[0;31m \u001b[0mtrain_model\u001b[0m\u001b[0;34m(\u001b[0m\u001b[0mmodel\u001b[0m\u001b[0;34m,\u001b[0m \u001b[0mtrain_loader\u001b[0m\u001b[0;34m,\u001b[0m \u001b[0mval_loader\u001b[0m\u001b[0;34m,\u001b[0m \u001b[0mnum_epochs\u001b[0m\u001b[0;34m=\u001b[0m\u001b[0;36m50\u001b[0m\u001b[0;34m,\u001b[0m \u001b[0mlr\u001b[0m\u001b[0;34m=\u001b[0m\u001b[0;36m0.001\u001b[0m\u001b[0;34m)\u001b[0m\u001b[0;34m\u001b[0m\u001b[0;34m\u001b[0m\u001b[0m\n\u001b[0m",
            "\u001b[0;32m<ipython-input-9-0a4c8246459a>\u001b[0m in \u001b[0;36mtrain_model\u001b[0;34m(model, train_loader, val_loader, num_epochs, lr)\u001b[0m\n\u001b[1;32m     25\u001b[0m             \u001b[0moptimizer\u001b[0m\u001b[0;34m.\u001b[0m\u001b[0mstep\u001b[0m\u001b[0;34m(\u001b[0m\u001b[0;34m)\u001b[0m\u001b[0;34m\u001b[0m\u001b[0;34m\u001b[0m\u001b[0m\n\u001b[1;32m     26\u001b[0m \u001b[0;34m\u001b[0m\u001b[0m\n\u001b[0;32m---> 27\u001b[0;31m             \u001b[0mrunning_loss\u001b[0m \u001b[0;34m+=\u001b[0m \u001b[0mloss\u001b[0m\u001b[0;34m.\u001b[0m\u001b[0mitem\u001b[0m\u001b[0;34m(\u001b[0m\u001b[0;34m)\u001b[0m\u001b[0;34m\u001b[0m\u001b[0;34m\u001b[0m\u001b[0m\n\u001b[0m\u001b[1;32m     28\u001b[0m             \u001b[0m_\u001b[0m\u001b[0;34m,\u001b[0m \u001b[0mpreds\u001b[0m \u001b[0;34m=\u001b[0m \u001b[0mtorch\u001b[0m\u001b[0;34m.\u001b[0m\u001b[0mmax\u001b[0m\u001b[0;34m(\u001b[0m\u001b[0moutputs\u001b[0m\u001b[0;34m,\u001b[0m \u001b[0;36m1\u001b[0m\u001b[0;34m)\u001b[0m\u001b[0;34m\u001b[0m\u001b[0;34m\u001b[0m\u001b[0m\n\u001b[1;32m     29\u001b[0m             \u001b[0mall_preds\u001b[0m\u001b[0;34m.\u001b[0m\u001b[0mextend\u001b[0m\u001b[0;34m(\u001b[0m\u001b[0mpreds\u001b[0m\u001b[0;34m.\u001b[0m\u001b[0mcpu\u001b[0m\u001b[0;34m(\u001b[0m\u001b[0;34m)\u001b[0m\u001b[0;34m.\u001b[0m\u001b[0mnumpy\u001b[0m\u001b[0;34m(\u001b[0m\u001b[0;34m)\u001b[0m\u001b[0;34m)\u001b[0m\u001b[0;34m\u001b[0m\u001b[0;34m\u001b[0m\u001b[0m\n",
            "\u001b[0;31mKeyboardInterrupt\u001b[0m: "
          ]
        }
      ]
    },
    {
      "cell_type": "markdown",
      "source": [
        "Ресурсы закончились, поэтому будут еще этапы дообучения, но можно попробовать что то предиктнуть)"
      ],
      "metadata": {
        "id": "8-8McEAfD24g"
      }
    },
    {
      "cell_type": "markdown",
      "source": [
        "## 3 этап обучения, с аугментацией"
      ],
      "metadata": {
        "id": "FWz6BC2EuTyr"
      }
    },
    {
      "cell_type": "markdown",
      "source": [
        "Все тоже самое, но в этот раз добавим аугментацю, чтобы модель не расслаблялась."
      ],
      "metadata": {
        "id": "PVphBf42alW8"
      }
    },
    {
      "cell_type": "code",
      "source": [
        "model.load_state_dict(torch.load('best_model(4).pth')) # Загрузка лучшей модели"
      ],
      "metadata": {
        "colab": {
          "base_uri": "https://localhost:8080/"
        },
        "id": "shCWkYNlwgke",
        "outputId": "791f9aad-88f5-4d85-cda2-c0ea901669d3"
      },
      "execution_count": null,
      "outputs": [
        {
          "output_type": "execute_result",
          "data": {
            "text/plain": [
              "<All keys matched successfully>"
            ]
          },
          "metadata": {},
          "execution_count": 8
        }
      ]
    },
    {
      "cell_type": "markdown",
      "source": [
        "Создание даталоадеров с аугами"
      ],
      "metadata": {
        "id": "e76-kV60wk-X"
      }
    },
    {
      "cell_type": "code",
      "source": [
        "import os\n",
        "import pandas as pd\n",
        "from PIL import Image\n",
        "from torch.utils.data import Dataset, DataLoader, Subset\n",
        "from torchvision import transforms\n",
        "from sklearn.model_selection import train_test_split\n",
        "\n",
        "class TrainDataset(Dataset):\n",
        "    def __init__(self, img_dir, csv_path, transform=None):\n",
        "        self.img_dir = img_dir\n",
        "        self.df = pd.read_csv(csv_path)\n",
        "        self.transform = transform\n",
        "\n",
        "    def __len__(self):\n",
        "        return len(self.df)\n",
        "\n",
        "    def __getitem__(self, idx):\n",
        "        file_id = str(self.df.iloc[idx, 0])\n",
        "        img_name = os.path.join(self.img_dir, f\"{file_id}.jpg\")\n",
        "\n",
        "        image = Image.open(img_name).convert('RGB')\n",
        "        label = self.df.iloc[idx, 1]\n",
        "\n",
        "        if self.transform:\n",
        "            image = self.transform(image)\n",
        "\n",
        "        return image, label\n",
        "\n",
        "class TestDataset(Dataset):\n",
        "    def __init__(self, img_dir, transform=None):\n",
        "        self.img_dir = img_dir\n",
        "        self.img_list = os.listdir(img_dir)\n",
        "        self.transform = transform\n",
        "\n",
        "    def __len__(self):\n",
        "        return len(self.img_list)\n",
        "\n",
        "    def __getitem__(self, idx):\n",
        "        img_name = os.path.join(self.img_dir, self.img_list[idx])\n",
        "        image = Image.open(img_name).convert('RGB')\n",
        "\n",
        "        if self.transform:\n",
        "            image = self.transform(image)\n",
        "\n",
        "        return image\n",
        "\n",
        "DATA_DIR = \"/root/.cache/kagglehub/competitions/ml-intensive-yandex-academy-spring-2025/human_poses_data\"\n",
        "CSV_PATH = os.path.join(DATA_DIR, 'train_answers.csv')\n",
        "IMG_DIR = os.path.join(DATA_DIR, 'img_train')\n",
        "TEST_DIR = os.path.join(DATA_DIR, 'img_test')\n",
        "\n",
        "train_transform = transforms.Compose([\n",
        "    transforms.Resize((896, 896)),\n",
        "    transforms.RandomHorizontalFlip(),\n",
        "    transforms.RandomRotation(10),\n",
        "    transforms.ToTensor(),\n",
        "    transforms.Normalize(mean=[0.485, 0.456, 0.406], std=[0.229, 0.224, 0.225])\n",
        "])\n",
        "\n",
        "val_test_transform = transforms.Compose([\n",
        "    transforms.Resize((896, 896)),\n",
        "    transforms.ToTensor(),\n",
        "    transforms.Normalize(mean=[0.485, 0.456, 0.406], std=[0.229, 0.224, 0.225])\n",
        "])\n",
        "\n",
        "train_dataset = TrainDataset(\n",
        "    img_dir=IMG_DIR,\n",
        "    csv_path=CSV_PATH,\n",
        "    transform=train_transform\n",
        ")\n",
        "\n",
        "labels = train_dataset.df.iloc[:, 1].tolist()\n",
        "train_idx, val_idx = train_test_split(\n",
        "    range(len(labels)),\n",
        "    test_size=0.2,\n",
        "    stratify=labels,\n",
        "    random_state=42\n",
        ")\n",
        "\n",
        "train_subset = Subset(train_dataset, train_idx)\n",
        "val_subset = Subset(train_dataset, val_idx)\n",
        "\n",
        "val_subset.dataset.transform = val_test_transform\n",
        "\n",
        "test_dataset = TestDataset(\n",
        "    img_dir=TEST_DIR,\n",
        "    transform=val_test_transform\n",
        ")\n",
        "\n",
        "BATCH_SIZE = 32\n",
        "NUM_WORKERS = 2\n",
        "\n",
        "train_loader = DataLoader(\n",
        "    train_subset,\n",
        "    batch_size=BATCH_SIZE,\n",
        "    shuffle=True,\n",
        "    num_workers=NUM_WORKERS\n",
        ")\n",
        "\n",
        "val_loader = DataLoader(\n",
        "    val_subset,\n",
        "    batch_size=BATCH_SIZE,\n",
        "    shuffle=False,\n",
        "    num_workers=NUM_WORKERS\n",
        ")\n",
        "\n",
        "test_loader = DataLoader(\n",
        "    test_dataset,\n",
        "    batch_size=BATCH_SIZE,\n",
        "    shuffle=False,\n",
        "    num_workers=NUM_WORKERS\n",
        ")\n"
      ],
      "metadata": {
        "id": "xJJ5YnaquXiI"
      },
      "execution_count": null,
      "outputs": []
    },
    {
      "cell_type": "code",
      "source": [
        "train_model(model, train_loader, val_loader, num_epochs=20, lr=0.001)"
      ],
      "metadata": {
        "colab": {
          "base_uri": "https://localhost:8080/"
        },
        "id": "fBtYb5wuwtHx",
        "outputId": "790057a0-f489-4665-f808-5b00effbdf01"
      },
      "execution_count": null,
      "outputs": [
        {
          "output_type": "stream",
          "name": "stdout",
          "text": [
            "New best model saved! F1: 0.6317\n",
            "Epoch [1/20]\n",
            "Train Loss: 0.3525 | Val Loss: 1.4586\n",
            "Train F1: 0.8602 | Val F1: 0.6317\n",
            "------------------------------------------------------------\n",
            "Epoch [2/20]\n",
            "Train Loss: 0.3112 | Val Loss: 1.4913\n",
            "Train F1: 0.8764 | Val F1: 0.6236\n",
            "------------------------------------------------------------\n",
            "Epoch [3/20]\n",
            "Train Loss: 0.2908 | Val Loss: 1.4445\n",
            "Train F1: 0.8919 | Val F1: 0.6297\n",
            "------------------------------------------------------------\n",
            "New best model saved! F1: 0.6594\n",
            "Epoch [4/20]\n",
            "Train Loss: 0.2821 | Val Loss: 1.3492\n",
            "Train F1: 0.8820 | Val F1: 0.6594\n",
            "------------------------------------------------------------\n",
            "Epoch [5/20]\n",
            "Train Loss: 0.2850 | Val Loss: 1.4239\n",
            "Train F1: 0.8936 | Val F1: 0.6408\n",
            "------------------------------------------------------------\n",
            "Epoch [6/20]\n",
            "Train Loss: 0.2584 | Val Loss: 1.5167\n",
            "Train F1: 0.8932 | Val F1: 0.6400\n",
            "------------------------------------------------------------\n",
            "New best model saved! F1: 0.6632\n",
            "Epoch [7/20]\n",
            "Train Loss: 0.2288 | Val Loss: 1.4014\n",
            "Train F1: 0.9129 | Val F1: 0.6632\n",
            "------------------------------------------------------------\n",
            "Epoch [8/20]\n",
            "Train Loss: 0.2212 | Val Loss: 1.4287\n",
            "Train F1: 0.9136 | Val F1: 0.6592\n",
            "------------------------------------------------------------\n",
            "Epoch [9/20]\n",
            "Train Loss: 0.2062 | Val Loss: 1.5407\n",
            "Train F1: 0.9209 | Val F1: 0.6292\n",
            "------------------------------------------------------------\n",
            "Epoch [10/20]\n",
            "Train Loss: 0.2022 | Val Loss: 1.4850\n",
            "Train F1: 0.9219 | Val F1: 0.6545\n",
            "------------------------------------------------------------\n",
            "Epoch [11/20]\n",
            "Train Loss: 0.2013 | Val Loss: 1.4777\n",
            "Train F1: 0.9304 | Val F1: 0.6471\n",
            "------------------------------------------------------------\n",
            "Epoch [12/20]\n",
            "Train Loss: 0.2032 | Val Loss: 1.5264\n",
            "Train F1: 0.9236 | Val F1: 0.6335\n",
            "------------------------------------------------------------\n",
            "Epoch [13/20]\n",
            "Train Loss: 0.1975 | Val Loss: 1.6717\n",
            "Train F1: 0.9292 | Val F1: 0.6387\n",
            "------------------------------------------------------------\n",
            "New best model saved! F1: 0.6767\n",
            "Epoch [14/20]\n",
            "Train Loss: 0.1960 | Val Loss: 1.4127\n",
            "Train F1: 0.9227 | Val F1: 0.6767\n",
            "------------------------------------------------------------\n",
            "Epoch [15/20]\n",
            "Train Loss: 0.1596 | Val Loss: 1.5778\n",
            "Train F1: 0.9389 | Val F1: 0.6590\n",
            "------------------------------------------------------------\n",
            "Epoch [16/20]\n",
            "Train Loss: 0.1729 | Val Loss: 1.4583\n",
            "Train F1: 0.9319 | Val F1: 0.6633\n",
            "------------------------------------------------------------\n",
            "New best model saved! F1: 0.6784\n",
            "Epoch [17/20]\n",
            "Train Loss: 0.1395 | Val Loss: 1.3967\n",
            "Train F1: 0.9451 | Val F1: 0.6784\n",
            "------------------------------------------------------------\n"
          ]
        }
      ]
    },
    {
      "cell_type": "markdown",
      "source": [
        "## 4 этап обучения"
      ],
      "metadata": {
        "id": "EUEsDIpNSMm3"
      }
    },
    {
      "cell_type": "markdown",
      "source": [
        "И как выяснилось последний."
      ],
      "metadata": {
        "id": "XGfTHLExau8i"
      }
    },
    {
      "cell_type": "code",
      "source": [
        "model.load_state_dict(torch.load('best_model.pth')) # Загрузка лучшей модели"
      ],
      "metadata": {
        "colab": {
          "base_uri": "https://localhost:8080/"
        },
        "id": "xrvE8kL1SSu0",
        "outputId": "f76934d7-849c-490a-efca-520f27f8e6bc"
      },
      "execution_count": null,
      "outputs": [
        {
          "output_type": "execute_result",
          "data": {
            "text/plain": [
              "<All keys matched successfully>"
            ]
          },
          "metadata": {},
          "execution_count": 11
        }
      ]
    },
    {
      "cell_type": "code",
      "source": [
        "train_model(model, train_loader, val_loader, num_epochs=20, lr=0.0005)"
      ],
      "metadata": {
        "colab": {
          "base_uri": "https://localhost:8080/"
        },
        "id": "D-jik4EqSVpy",
        "outputId": "4b0e97f9-6c0b-4fc6-fe53-3aaf123ccf61"
      },
      "execution_count": null,
      "outputs": [
        {
          "output_type": "stream",
          "name": "stdout",
          "text": [
            "Mounted at /content/drive\n",
            "New best model saved! F1: 0.6919\n",
            "Epoch [1/20]\n",
            "Train Loss: 0.0696 | Val Loss: 1.4384\n",
            "Train F1: 0.9785 | Val F1: 0.6919\n",
            "------------------------------------------------------------\n",
            "Epoch [2/20]\n",
            "Train Loss: 0.0745 | Val Loss: 1.4544\n",
            "Train F1: 0.9772 | Val F1: 0.6885\n",
            "------------------------------------------------------------\n",
            "New best model saved! F1: 0.7057\n",
            "Epoch [3/20]\n",
            "Train Loss: 0.0757 | Val Loss: 1.3589\n",
            "Train F1: 0.9769 | Val F1: 0.7057\n",
            "------------------------------------------------------------\n",
            "Epoch [4/20]\n",
            "Train Loss: 0.0574 | Val Loss: 1.4661\n",
            "Train F1: 0.9797 | Val F1: 0.6940\n",
            "------------------------------------------------------------\n",
            "Epoch [5/20]\n",
            "Train Loss: 0.0578 | Val Loss: 1.4639\n",
            "Train F1: 0.9779 | Val F1: 0.6868\n",
            "------------------------------------------------------------\n",
            "Epoch [6/20]\n",
            "Train Loss: 0.0559 | Val Loss: 1.4651\n",
            "Train F1: 0.9791 | Val F1: 0.6944\n",
            "------------------------------------------------------------\n",
            "New best model saved! F1: 0.7147\n",
            "Epoch [7/20]\n",
            "Train Loss: 0.0580 | Val Loss: 1.4519\n",
            "Train F1: 0.9808 | Val F1: 0.7147\n",
            "------------------------------------------------------------\n",
            "Epoch [8/20]\n",
            "Train Loss: 0.0606 | Val Loss: 1.4632\n",
            "Train F1: 0.9804 | Val F1: 0.6979\n",
            "------------------------------------------------------------\n",
            "Epoch [9/20]\n",
            "Train Loss: 0.0679 | Val Loss: 1.5131\n",
            "Train F1: 0.9779 | Val F1: 0.6836\n",
            "------------------------------------------------------------\n",
            "Epoch [10/20]\n",
            "Train Loss: 0.0549 | Val Loss: 1.5878\n",
            "Train F1: 0.9812 | Val F1: 0.6918\n",
            "------------------------------------------------------------\n",
            "Epoch [11/20]\n",
            "Train Loss: 0.0556 | Val Loss: 1.4723\n",
            "Train F1: 0.9795 | Val F1: 0.6980\n",
            "------------------------------------------------------------\n",
            "Epoch [12/20]\n",
            "Train Loss: 0.0423 | Val Loss: 1.5086\n",
            "Train F1: 0.9876 | Val F1: 0.7009\n",
            "------------------------------------------------------------\n",
            "Epoch [13/20]\n",
            "Train Loss: 0.0773 | Val Loss: 1.4706\n",
            "Train F1: 0.9748 | Val F1: 0.7006\n",
            "------------------------------------------------------------\n",
            "Epoch [14/20]\n",
            "Train Loss: 0.0625 | Val Loss: 1.4409\n",
            "Train F1: 0.9820 | Val F1: 0.7059\n",
            "------------------------------------------------------------\n",
            "Epoch [15/20]\n",
            "Train Loss: 0.0577 | Val Loss: 1.5430\n",
            "Train F1: 0.9789 | Val F1: 0.6714\n",
            "------------------------------------------------------------\n",
            "Epoch [16/20]\n",
            "Train Loss: 0.0655 | Val Loss: 1.5906\n",
            "Train F1: 0.9782 | Val F1: 0.6894\n",
            "------------------------------------------------------------\n"
          ]
        }
      ]
    },
    {
      "cell_type": "markdown",
      "source": [
        "В общем лучше 0.7 я ничего получить не смог, было еще 2 попытки дообучить, но тщетно, так что могу сделать вывод, что это пик моего резнетика."
      ],
      "metadata": {
        "id": "DLsJIxBSjvd8"
      }
    },
    {
      "cell_type": "markdown",
      "source": [
        "# Предикт на тесте"
      ],
      "metadata": {
        "id": "xXRLeRP1n_8-"
      }
    },
    {
      "cell_type": "code",
      "source": [
        "import torch\n",
        "import pandas as pd\n",
        "from PIL import Image\n",
        "import os\n",
        "\n",
        "def predict_test_set(model, test_loader, device='cuda'):\n",
        "    model.eval()\n",
        "    model.to(device)\n",
        "    all_preds = []\n",
        "    filenames = []\n",
        "\n",
        "    with torch.no_grad():\n",
        "        for images, paths in test_loader:\n",
        "            images = images.to(device)\n",
        "            outputs = model(images)\n",
        "            _, preds = torch.max(outputs, 1)\n",
        "            all_preds.extend(preds.cpu().numpy())\n",
        "            filenames.extend(paths)\n",
        "\n",
        "    return filenames, all_preds\n",
        "\n",
        "model = ResNet(BasicBlock, [2,2,2,2], num_classes=16)\n",
        "model.load_state_dict(torch.load('best_model(7).pth'))\n",
        "\n",
        "class CustomTestDataset(Dataset):\n",
        "    def __init__(self, img_dir, transform=None):\n",
        "        self.img_dir = TEST_DIR\n",
        "        self.img_list = os.listdir(TEST_DIR)\n",
        "        self.transform = transform\n",
        "\n",
        "    def __len__(self):\n",
        "        return len(self.img_list)\n",
        "\n",
        "    def __getitem__(self, idx):\n",
        "        img_name = os.path.join(self.img_dir, self.img_list[idx])\n",
        "        image = Image.open(img_name).convert('RGB')\n",
        "\n",
        "        if self.transform:\n",
        "            image = self.transform(image)\n",
        "\n",
        "        return image, self.img_list[idx]\n",
        "\n",
        "test_dataset = CustomTestDataset(\n",
        "    img_dir='img_test',\n",
        "    transform=val_test_transform\n",
        ")\n",
        "\n",
        "test_loader = DataLoader(\n",
        "    test_dataset,\n",
        "    batch_size=32,\n",
        "    shuffle=False,\n",
        "    num_workers=2\n",
        ")\n",
        "\n",
        "filenames, predictions = predict_test_set(model, test_loader)\n",
        "\n",
        "results_df = pd.DataFrame({\n",
        "    'id': filenames,\n",
        "    'target_feature': predictions\n",
        "})\n",
        "\n",
        "results_df['id'] = results_df['id'].str.replace(r'\\.jpg$', '', regex=True)\n",
        "\n",
        "results_df.to_csv('predictions.csv', index=False)"
      ],
      "metadata": {
        "id": "6UyEP_VEHNNX"
      },
      "execution_count": null,
      "outputs": []
    },
    {
      "cell_type": "markdown",
      "source": [
        "# Вывод"
      ],
      "metadata": {
        "id": "YiMSOlXAkBYp"
      }
    },
    {
      "cell_type": "markdown",
      "source": [
        "\n",
        "\n",
        "---\n",
        "\n"
      ],
      "metadata": {
        "id": "Xm7LKjHRVvyy"
      }
    },
    {
      "cell_type": "markdown",
      "source": [
        "![Firefox_Screenshot_2025-04-19T15-16-12.855Z.png](data:image/png;base64,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)"
      ],
      "metadata": {
        "id": "lZZQteAcnieG"
      }
    },
    {
      "cell_type": "markdown",
      "source": [
        "\n",
        "\n",
        "---\n",
        "\n",
        "\n",
        "В общем пик моей модели - f1-score = 0.7. Вполне неплохо, хотя можно куда лучше. Потом возможно загружу ноутбук с более продвинутой и крутой архитектурой, а также получше обработанными классами.\n",
        "\n",
        "\n",
        "---\n",
        "\n"
      ],
      "metadata": {
        "id": "rFJHnZT2kEJK"
      }
    },
    {
      "cell_type": "markdown",
      "source": [
        "# Другие попытки"
      ],
      "metadata": {
        "id": "KuRoMoztTWCQ"
      }
    },
    {
      "cell_type": "markdown",
      "source": [
        "\n",
        "\n",
        "---\n",
        "\n",
        "\n",
        "Была попытка написать ViT для классификации, с улучшенной обработкой классов ну и крутой архитектурой трансформеров, однако времени было мало и модель просто переобучилась.\n",
        "\n",
        "\n",
        "---\n",
        "\n",
        "\n",
        "Ссылка на ноутбук для изучения - https://colab.research.google.com/drive/1Me3Nz83pOOLFRxiPm488a61gShPoFZNz?usp=sharing\n",
        "\n",
        "\n",
        "---\n",
        "\n"
      ],
      "metadata": {
        "id": "vhgYLd3NTYFv"
      }
    }
  ]
}