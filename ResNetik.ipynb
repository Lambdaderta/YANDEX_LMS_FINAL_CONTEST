{
  "metadata": {
    "kernelspec": {
      "display_name": "Python 3",
      "name": "python3"
    },
    "language_info": {
      "name": "python",
      "version": "3.10.12",
      "mimetype": "text/x-python",
      "codemirror_mode": {
        "name": "ipython",
        "version": 3
      },
      "pygments_lexer": "ipython3",
      "nbconvert_exporter": "python",
      "file_extension": ".py"
    },
    "kaggle": {
      "accelerator": "none",
      "dataSources": [
        {
          "sourceId": 98102,
          "databundleVersionId": 11691206,
          "sourceType": "competition"
        }
      ],
      "dockerImageVersionId": 30918,
      "isInternetEnabled": false,
      "language": "python",
      "sourceType": "notebook",
      "isGpuEnabled": false
    },
    "colab": {
      "provenance": [],
      "collapsed_sections": [
        "EBgNgy42vs6C",
        "Skmjh0IgnnAN",
        "5tb3WkGdnn_j",
        "XujqhvHZn5uW",
        "35TK1YQ2pztS",
        "Oeb-S6aQAZ7K",
        "Nhb1rAWnAhiT"
      ],
      "gpuType": "T4",
      "include_colab_link": true
    },
    "widgets": {
      "application/vnd.jupyter.widget-state+json": {
        "acdc38aa7cbb4804971f6b1d29200858": {
          "model_module": "@jupyter-widgets/controls",
          "model_name": "VBoxModel",
          "model_module_version": "1.5.0",
          "state": {
            "_dom_classes": [],
            "_model_module": "@jupyter-widgets/controls",
            "_model_module_version": "1.5.0",
            "_model_name": "VBoxModel",
            "_view_count": null,
            "_view_module": "@jupyter-widgets/controls",
            "_view_module_version": "1.5.0",
            "_view_name": "VBoxView",
            "box_style": "",
            "children": [
              "IPY_MODEL_3c857593907e4264a0f15298910fe8ca"
            ],
            "layout": "IPY_MODEL_44f152f6cdc346779030439e31ca15b7"
          }
        },
        "95957893219a43689464b2700cd6c183": {
          "model_module": "@jupyter-widgets/controls",
          "model_name": "HTMLModel",
          "model_module_version": "1.5.0",
          "state": {
            "_dom_classes": [],
            "_model_module": "@jupyter-widgets/controls",
            "_model_module_version": "1.5.0",
            "_model_name": "HTMLModel",
            "_view_count": null,
            "_view_module": "@jupyter-widgets/controls",
            "_view_module_version": "1.5.0",
            "_view_name": "HTMLView",
            "description": "",
            "description_tooltip": null,
            "layout": "IPY_MODEL_accf953e6a574a07bea6eced26053d6b",
            "placeholder": "​",
            "style": "IPY_MODEL_31d9afaeae3549f9a88d3eb262e34ed8",
            "value": "<center> <img\nsrc=https://www.kaggle.com/static/images/site-logo.png\nalt='Kaggle'> <br> Create an API token from <a\nhref=\"https://www.kaggle.com/settings/account\" target=\"_blank\">your Kaggle\nsettings page</a> and paste it below along with your Kaggle username. <br> </center>"
          }
        },
        "f365b1ec6837450491b49e5a8d3c1c34": {
          "model_module": "@jupyter-widgets/controls",
          "model_name": "TextModel",
          "model_module_version": "1.5.0",
          "state": {
            "_dom_classes": [],
            "_model_module": "@jupyter-widgets/controls",
            "_model_module_version": "1.5.0",
            "_model_name": "TextModel",
            "_view_count": null,
            "_view_module": "@jupyter-widgets/controls",
            "_view_module_version": "1.5.0",
            "_view_name": "TextView",
            "continuous_update": true,
            "description": "Username:",
            "description_tooltip": null,
            "disabled": false,
            "layout": "IPY_MODEL_7e3aa8193c2a4c179219d49c8845dcc4",
            "placeholder": "​",
            "style": "IPY_MODEL_fb0e678449084942a05653f21eea48d4",
            "value": "lambdaderta"
          }
        },
        "2d8687cc4a074117ad67d41fdbc8673a": {
          "model_module": "@jupyter-widgets/controls",
          "model_name": "PasswordModel",
          "model_module_version": "1.5.0",
          "state": {
            "_dom_classes": [],
            "_model_module": "@jupyter-widgets/controls",
            "_model_module_version": "1.5.0",
            "_model_name": "PasswordModel",
            "_view_count": null,
            "_view_module": "@jupyter-widgets/controls",
            "_view_module_version": "1.5.0",
            "_view_name": "PasswordView",
            "continuous_update": true,
            "description": "Token:",
            "description_tooltip": null,
            "disabled": false,
            "layout": "IPY_MODEL_79f10f1a4a564747b2286f27b1345304",
            "placeholder": "​",
            "style": "IPY_MODEL_63457b9160b2421b93577633b0479074",
            "value": ""
          }
        },
        "b441cf09f56a455e9245c2a077da2231": {
          "model_module": "@jupyter-widgets/controls",
          "model_name": "ButtonModel",
          "model_module_version": "1.5.0",
          "state": {
            "_dom_classes": [],
            "_model_module": "@jupyter-widgets/controls",
            "_model_module_version": "1.5.0",
            "_model_name": "ButtonModel",
            "_view_count": null,
            "_view_module": "@jupyter-widgets/controls",
            "_view_module_version": "1.5.0",
            "_view_name": "ButtonView",
            "button_style": "",
            "description": "Login",
            "disabled": false,
            "icon": "",
            "layout": "IPY_MODEL_da6bb128f9974a28b510340c581c045b",
            "style": "IPY_MODEL_71c46f65d2e74ee7bc758e8b0ce61ce6",
            "tooltip": ""
          }
        },
        "17193ea926614e128680161fd3c80283": {
          "model_module": "@jupyter-widgets/controls",
          "model_name": "HTMLModel",
          "model_module_version": "1.5.0",
          "state": {
            "_dom_classes": [],
            "_model_module": "@jupyter-widgets/controls",
            "_model_module_version": "1.5.0",
            "_model_name": "HTMLModel",
            "_view_count": null,
            "_view_module": "@jupyter-widgets/controls",
            "_view_module_version": "1.5.0",
            "_view_name": "HTMLView",
            "description": "",
            "description_tooltip": null,
            "layout": "IPY_MODEL_fa30cf323e4743798f63916d467a4b56",
            "placeholder": "​",
            "style": "IPY_MODEL_e27017ec79004d09aea0277d65cd7846",
            "value": "\n<b>Thank You</b></center>"
          }
        },
        "44f152f6cdc346779030439e31ca15b7": {
          "model_module": "@jupyter-widgets/base",
          "model_name": "LayoutModel",
          "model_module_version": "1.2.0",
          "state": {
            "_model_module": "@jupyter-widgets/base",
            "_model_module_version": "1.2.0",
            "_model_name": "LayoutModel",
            "_view_count": null,
            "_view_module": "@jupyter-widgets/base",
            "_view_module_version": "1.2.0",
            "_view_name": "LayoutView",
            "align_content": null,
            "align_items": "center",
            "align_self": null,
            "border": null,
            "bottom": null,
            "display": "flex",
            "flex": null,
            "flex_flow": "column",
            "grid_area": null,
            "grid_auto_columns": null,
            "grid_auto_flow": null,
            "grid_auto_rows": null,
            "grid_column": null,
            "grid_gap": null,
            "grid_row": null,
            "grid_template_areas": null,
            "grid_template_columns": null,
            "grid_template_rows": null,
            "height": null,
            "justify_content": null,
            "justify_items": null,
            "left": null,
            "margin": null,
            "max_height": null,
            "max_width": null,
            "min_height": null,
            "min_width": null,
            "object_fit": null,
            "object_position": null,
            "order": null,
            "overflow": null,
            "overflow_x": null,
            "overflow_y": null,
            "padding": null,
            "right": null,
            "top": null,
            "visibility": null,
            "width": "50%"
          }
        },
        "accf953e6a574a07bea6eced26053d6b": {
          "model_module": "@jupyter-widgets/base",
          "model_name": "LayoutModel",
          "model_module_version": "1.2.0",
          "state": {
            "_model_module": "@jupyter-widgets/base",
            "_model_module_version": "1.2.0",
            "_model_name": "LayoutModel",
            "_view_count": null,
            "_view_module": "@jupyter-widgets/base",
            "_view_module_version": "1.2.0",
            "_view_name": "LayoutView",
            "align_content": null,
            "align_items": null,
            "align_self": null,
            "border": null,
            "bottom": null,
            "display": null,
            "flex": null,
            "flex_flow": null,
            "grid_area": null,
            "grid_auto_columns": null,
            "grid_auto_flow": null,
            "grid_auto_rows": null,
            "grid_column": null,
            "grid_gap": null,
            "grid_row": null,
            "grid_template_areas": null,
            "grid_template_columns": null,
            "grid_template_rows": null,
            "height": null,
            "justify_content": null,
            "justify_items": null,
            "left": null,
            "margin": null,
            "max_height": null,
            "max_width": null,
            "min_height": null,
            "min_width": null,
            "object_fit": null,
            "object_position": null,
            "order": null,
            "overflow": null,
            "overflow_x": null,
            "overflow_y": null,
            "padding": null,
            "right": null,
            "top": null,
            "visibility": null,
            "width": null
          }
        },
        "31d9afaeae3549f9a88d3eb262e34ed8": {
          "model_module": "@jupyter-widgets/controls",
          "model_name": "DescriptionStyleModel",
          "model_module_version": "1.5.0",
          "state": {
            "_model_module": "@jupyter-widgets/controls",
            "_model_module_version": "1.5.0",
            "_model_name": "DescriptionStyleModel",
            "_view_count": null,
            "_view_module": "@jupyter-widgets/base",
            "_view_module_version": "1.2.0",
            "_view_name": "StyleView",
            "description_width": ""
          }
        },
        "7e3aa8193c2a4c179219d49c8845dcc4": {
          "model_module": "@jupyter-widgets/base",
          "model_name": "LayoutModel",
          "model_module_version": "1.2.0",
          "state": {
            "_model_module": "@jupyter-widgets/base",
            "_model_module_version": "1.2.0",
            "_model_name": "LayoutModel",
            "_view_count": null,
            "_view_module": "@jupyter-widgets/base",
            "_view_module_version": "1.2.0",
            "_view_name": "LayoutView",
            "align_content": null,
            "align_items": null,
            "align_self": null,
            "border": null,
            "bottom": null,
            "display": null,
            "flex": null,
            "flex_flow": null,
            "grid_area": null,
            "grid_auto_columns": null,
            "grid_auto_flow": null,
            "grid_auto_rows": null,
            "grid_column": null,
            "grid_gap": null,
            "grid_row": null,
            "grid_template_areas": null,
            "grid_template_columns": null,
            "grid_template_rows": null,
            "height": null,
            "justify_content": null,
            "justify_items": null,
            "left": null,
            "margin": null,
            "max_height": null,
            "max_width": null,
            "min_height": null,
            "min_width": null,
            "object_fit": null,
            "object_position": null,
            "order": null,
            "overflow": null,
            "overflow_x": null,
            "overflow_y": null,
            "padding": null,
            "right": null,
            "top": null,
            "visibility": null,
            "width": null
          }
        },
        "fb0e678449084942a05653f21eea48d4": {
          "model_module": "@jupyter-widgets/controls",
          "model_name": "DescriptionStyleModel",
          "model_module_version": "1.5.0",
          "state": {
            "_model_module": "@jupyter-widgets/controls",
            "_model_module_version": "1.5.0",
            "_model_name": "DescriptionStyleModel",
            "_view_count": null,
            "_view_module": "@jupyter-widgets/base",
            "_view_module_version": "1.2.0",
            "_view_name": "StyleView",
            "description_width": ""
          }
        },
        "79f10f1a4a564747b2286f27b1345304": {
          "model_module": "@jupyter-widgets/base",
          "model_name": "LayoutModel",
          "model_module_version": "1.2.0",
          "state": {
            "_model_module": "@jupyter-widgets/base",
            "_model_module_version": "1.2.0",
            "_model_name": "LayoutModel",
            "_view_count": null,
            "_view_module": "@jupyter-widgets/base",
            "_view_module_version": "1.2.0",
            "_view_name": "LayoutView",
            "align_content": null,
            "align_items": null,
            "align_self": null,
            "border": null,
            "bottom": null,
            "display": null,
            "flex": null,
            "flex_flow": null,
            "grid_area": null,
            "grid_auto_columns": null,
            "grid_auto_flow": null,
            "grid_auto_rows": null,
            "grid_column": null,
            "grid_gap": null,
            "grid_row": null,
            "grid_template_areas": null,
            "grid_template_columns": null,
            "grid_template_rows": null,
            "height": null,
            "justify_content": null,
            "justify_items": null,
            "left": null,
            "margin": null,
            "max_height": null,
            "max_width": null,
            "min_height": null,
            "min_width": null,
            "object_fit": null,
            "object_position": null,
            "order": null,
            "overflow": null,
            "overflow_x": null,
            "overflow_y": null,
            "padding": null,
            "right": null,
            "top": null,
            "visibility": null,
            "width": null
          }
        },
        "63457b9160b2421b93577633b0479074": {
          "model_module": "@jupyter-widgets/controls",
          "model_name": "DescriptionStyleModel",
          "model_module_version": "1.5.0",
          "state": {
            "_model_module": "@jupyter-widgets/controls",
            "_model_module_version": "1.5.0",
            "_model_name": "DescriptionStyleModel",
            "_view_count": null,
            "_view_module": "@jupyter-widgets/base",
            "_view_module_version": "1.2.0",
            "_view_name": "StyleView",
            "description_width": ""
          }
        },
        "da6bb128f9974a28b510340c581c045b": {
          "model_module": "@jupyter-widgets/base",
          "model_name": "LayoutModel",
          "model_module_version": "1.2.0",
          "state": {
            "_model_module": "@jupyter-widgets/base",
            "_model_module_version": "1.2.0",
            "_model_name": "LayoutModel",
            "_view_count": null,
            "_view_module": "@jupyter-widgets/base",
            "_view_module_version": "1.2.0",
            "_view_name": "LayoutView",
            "align_content": null,
            "align_items": null,
            "align_self": null,
            "border": null,
            "bottom": null,
            "display": null,
            "flex": null,
            "flex_flow": null,
            "grid_area": null,
            "grid_auto_columns": null,
            "grid_auto_flow": null,
            "grid_auto_rows": null,
            "grid_column": null,
            "grid_gap": null,
            "grid_row": null,
            "grid_template_areas": null,
            "grid_template_columns": null,
            "grid_template_rows": null,
            "height": null,
            "justify_content": null,
            "justify_items": null,
            "left": null,
            "margin": null,
            "max_height": null,
            "max_width": null,
            "min_height": null,
            "min_width": null,
            "object_fit": null,
            "object_position": null,
            "order": null,
            "overflow": null,
            "overflow_x": null,
            "overflow_y": null,
            "padding": null,
            "right": null,
            "top": null,
            "visibility": null,
            "width": null
          }
        },
        "71c46f65d2e74ee7bc758e8b0ce61ce6": {
          "model_module": "@jupyter-widgets/controls",
          "model_name": "ButtonStyleModel",
          "model_module_version": "1.5.0",
          "state": {
            "_model_module": "@jupyter-widgets/controls",
            "_model_module_version": "1.5.0",
            "_model_name": "ButtonStyleModel",
            "_view_count": null,
            "_view_module": "@jupyter-widgets/base",
            "_view_module_version": "1.2.0",
            "_view_name": "StyleView",
            "button_color": null,
            "font_weight": ""
          }
        },
        "fa30cf323e4743798f63916d467a4b56": {
          "model_module": "@jupyter-widgets/base",
          "model_name": "LayoutModel",
          "model_module_version": "1.2.0",
          "state": {
            "_model_module": "@jupyter-widgets/base",
            "_model_module_version": "1.2.0",
            "_model_name": "LayoutModel",
            "_view_count": null,
            "_view_module": "@jupyter-widgets/base",
            "_view_module_version": "1.2.0",
            "_view_name": "LayoutView",
            "align_content": null,
            "align_items": null,
            "align_self": null,
            "border": null,
            "bottom": null,
            "display": null,
            "flex": null,
            "flex_flow": null,
            "grid_area": null,
            "grid_auto_columns": null,
            "grid_auto_flow": null,
            "grid_auto_rows": null,
            "grid_column": null,
            "grid_gap": null,
            "grid_row": null,
            "grid_template_areas": null,
            "grid_template_columns": null,
            "grid_template_rows": null,
            "height": null,
            "justify_content": null,
            "justify_items": null,
            "left": null,
            "margin": null,
            "max_height": null,
            "max_width": null,
            "min_height": null,
            "min_width": null,
            "object_fit": null,
            "object_position": null,
            "order": null,
            "overflow": null,
            "overflow_x": null,
            "overflow_y": null,
            "padding": null,
            "right": null,
            "top": null,
            "visibility": null,
            "width": null
          }
        },
        "e27017ec79004d09aea0277d65cd7846": {
          "model_module": "@jupyter-widgets/controls",
          "model_name": "DescriptionStyleModel",
          "model_module_version": "1.5.0",
          "state": {
            "_model_module": "@jupyter-widgets/controls",
            "_model_module_version": "1.5.0",
            "_model_name": "DescriptionStyleModel",
            "_view_count": null,
            "_view_module": "@jupyter-widgets/base",
            "_view_module_version": "1.2.0",
            "_view_name": "StyleView",
            "description_width": ""
          }
        },
        "5f3d72f3e3de47208b39d774a19460b2": {
          "model_module": "@jupyter-widgets/controls",
          "model_name": "LabelModel",
          "model_module_version": "1.5.0",
          "state": {
            "_dom_classes": [],
            "_model_module": "@jupyter-widgets/controls",
            "_model_module_version": "1.5.0",
            "_model_name": "LabelModel",
            "_view_count": null,
            "_view_module": "@jupyter-widgets/controls",
            "_view_module_version": "1.5.0",
            "_view_name": "LabelView",
            "description": "",
            "description_tooltip": null,
            "layout": "IPY_MODEL_939f5173fb004e4ab79936e886c9fead",
            "placeholder": "​",
            "style": "IPY_MODEL_2e12e7b20c62489385a48c98f407a69f",
            "value": "Connecting..."
          }
        },
        "939f5173fb004e4ab79936e886c9fead": {
          "model_module": "@jupyter-widgets/base",
          "model_name": "LayoutModel",
          "model_module_version": "1.2.0",
          "state": {
            "_model_module": "@jupyter-widgets/base",
            "_model_module_version": "1.2.0",
            "_model_name": "LayoutModel",
            "_view_count": null,
            "_view_module": "@jupyter-widgets/base",
            "_view_module_version": "1.2.0",
            "_view_name": "LayoutView",
            "align_content": null,
            "align_items": null,
            "align_self": null,
            "border": null,
            "bottom": null,
            "display": null,
            "flex": null,
            "flex_flow": null,
            "grid_area": null,
            "grid_auto_columns": null,
            "grid_auto_flow": null,
            "grid_auto_rows": null,
            "grid_column": null,
            "grid_gap": null,
            "grid_row": null,
            "grid_template_areas": null,
            "grid_template_columns": null,
            "grid_template_rows": null,
            "height": null,
            "justify_content": null,
            "justify_items": null,
            "left": null,
            "margin": null,
            "max_height": null,
            "max_width": null,
            "min_height": null,
            "min_width": null,
            "object_fit": null,
            "object_position": null,
            "order": null,
            "overflow": null,
            "overflow_x": null,
            "overflow_y": null,
            "padding": null,
            "right": null,
            "top": null,
            "visibility": null,
            "width": null
          }
        },
        "2e12e7b20c62489385a48c98f407a69f": {
          "model_module": "@jupyter-widgets/controls",
          "model_name": "DescriptionStyleModel",
          "model_module_version": "1.5.0",
          "state": {
            "_model_module": "@jupyter-widgets/controls",
            "_model_module_version": "1.5.0",
            "_model_name": "DescriptionStyleModel",
            "_view_count": null,
            "_view_module": "@jupyter-widgets/base",
            "_view_module_version": "1.2.0",
            "_view_name": "StyleView",
            "description_width": ""
          }
        },
        "3c857593907e4264a0f15298910fe8ca": {
          "model_module": "@jupyter-widgets/controls",
          "model_name": "LabelModel",
          "model_module_version": "1.5.0",
          "state": {
            "_dom_classes": [],
            "_model_module": "@jupyter-widgets/controls",
            "_model_module_version": "1.5.0",
            "_model_name": "LabelModel",
            "_view_count": null,
            "_view_module": "@jupyter-widgets/controls",
            "_view_module_version": "1.5.0",
            "_view_name": "LabelView",
            "description": "",
            "description_tooltip": null,
            "layout": "IPY_MODEL_cbee0eb387e6437a963aea0f5b76df3e",
            "placeholder": "​",
            "style": "IPY_MODEL_8235817d99184a548147fedd995607df",
            "value": "Kaggle credentials successfully validated."
          }
        },
        "cbee0eb387e6437a963aea0f5b76df3e": {
          "model_module": "@jupyter-widgets/base",
          "model_name": "LayoutModel",
          "model_module_version": "1.2.0",
          "state": {
            "_model_module": "@jupyter-widgets/base",
            "_model_module_version": "1.2.0",
            "_model_name": "LayoutModel",
            "_view_count": null,
            "_view_module": "@jupyter-widgets/base",
            "_view_module_version": "1.2.0",
            "_view_name": "LayoutView",
            "align_content": null,
            "align_items": null,
            "align_self": null,
            "border": null,
            "bottom": null,
            "display": null,
            "flex": null,
            "flex_flow": null,
            "grid_area": null,
            "grid_auto_columns": null,
            "grid_auto_flow": null,
            "grid_auto_rows": null,
            "grid_column": null,
            "grid_gap": null,
            "grid_row": null,
            "grid_template_areas": null,
            "grid_template_columns": null,
            "grid_template_rows": null,
            "height": null,
            "justify_content": null,
            "justify_items": null,
            "left": null,
            "margin": null,
            "max_height": null,
            "max_width": null,
            "min_height": null,
            "min_width": null,
            "object_fit": null,
            "object_position": null,
            "order": null,
            "overflow": null,
            "overflow_x": null,
            "overflow_y": null,
            "padding": null,
            "right": null,
            "top": null,
            "visibility": null,
            "width": null
          }
        },
        "8235817d99184a548147fedd995607df": {
          "model_module": "@jupyter-widgets/controls",
          "model_name": "DescriptionStyleModel",
          "model_module_version": "1.5.0",
          "state": {
            "_model_module": "@jupyter-widgets/controls",
            "_model_module_version": "1.5.0",
            "_model_name": "DescriptionStyleModel",
            "_view_count": null,
            "_view_module": "@jupyter-widgets/base",
            "_view_module_version": "1.2.0",
            "_view_name": "StyleView",
            "description_width": ""
          }
        }
      }
    },
    "accelerator": "GPU"
  },
  "nbformat_minor": 0,
  "nbformat": 4,
  "cells": [
    {
      "cell_type": "markdown",
      "metadata": {
        "id": "view-in-github",
        "colab_type": "text"
      },
      "source": [
        "<a href=\"https://colab.research.google.com/github/Lambdaderta/yandex_lms_contest_ResNet/blob/main/ResNetik.ipynb\" target=\"_parent\"><img src=\"https://colab.research.google.com/assets/colab-badge.svg\" alt=\"Open In Colab\"/></a>"
      ]
    },
    {
      "cell_type": "markdown",
      "source": [
        "# Загрузка датасета и библиотек"
      ],
      "metadata": {
        "id": "RWvlO_t1vxDC"
      }
    },
    {
      "source": [
        "# IMPORTANT: SOME KAGGLE DATA SOURCES ARE PRIVATE\n",
        "# RUN THIS CELL IN ORDER TO IMPORT YOUR KAGGLE DATA SOURCES.\n",
        "import kagglehub\n",
        "kagglehub.login()\n"
      ],
      "metadata": {
        "id": "FHGoF8amEzFd",
        "colab": {
          "base_uri": "https://localhost:8080/",
          "height": 84,
          "referenced_widgets": [
            "acdc38aa7cbb4804971f6b1d29200858",
            "95957893219a43689464b2700cd6c183",
            "f365b1ec6837450491b49e5a8d3c1c34",
            "2d8687cc4a074117ad67d41fdbc8673a",
            "b441cf09f56a455e9245c2a077da2231",
            "17193ea926614e128680161fd3c80283",
            "44f152f6cdc346779030439e31ca15b7",
            "accf953e6a574a07bea6eced26053d6b",
            "31d9afaeae3549f9a88d3eb262e34ed8",
            "7e3aa8193c2a4c179219d49c8845dcc4",
            "fb0e678449084942a05653f21eea48d4",
            "79f10f1a4a564747b2286f27b1345304",
            "63457b9160b2421b93577633b0479074",
            "da6bb128f9974a28b510340c581c045b",
            "71c46f65d2e74ee7bc758e8b0ce61ce6",
            "fa30cf323e4743798f63916d467a4b56",
            "e27017ec79004d09aea0277d65cd7846",
            "5f3d72f3e3de47208b39d774a19460b2",
            "939f5173fb004e4ab79936e886c9fead",
            "2e12e7b20c62489385a48c98f407a69f",
            "3c857593907e4264a0f15298910fe8ca",
            "cbee0eb387e6437a963aea0f5b76df3e",
            "8235817d99184a548147fedd995607df"
          ]
        },
        "outputId": "7072d44f-0c7c-4dd8-e8ee-7840530e43d8"
      },
      "cell_type": "code",
      "outputs": [
        {
          "output_type": "display_data",
          "data": {
            "text/plain": [
              "VBox(children=(HTML(value='<center> <img\\nsrc=https://www.kaggle.com/static/images/site-logo.png\\nalt=\\'Kaggle…"
            ],
            "application/vnd.jupyter.widget-view+json": {
              "version_major": 2,
              "version_minor": 0,
              "model_id": "acdc38aa7cbb4804971f6b1d29200858"
            }
          },
          "metadata": {}
        },
        {
          "output_type": "stream",
          "name": "stdout",
          "text": [
            "Kaggle credentials set.\n",
            "Kaggle credentials successfully validated.\n"
          ]
        }
      ],
      "execution_count": null
    },
    {
      "source": [
        "# IMPORTANT: RUN THIS CELL IN ORDER TO IMPORT YOUR KAGGLE DATA SOURCES,\n",
        "# THEN FEEL FREE TO DELETE THIS CELL.\n",
        "# NOTE: THIS NOTEBOOK ENVIRONMENT DIFFERS FROM KAGGLE'S PYTHON\n",
        "# ENVIRONMENT SO THERE MAY BE MISSING LIBRARIES USED BY YOUR\n",
        "# NOTEBOOK.\n",
        "\n",
        "ml_intensive_yandex_academy_spring_2025_path = kagglehub.competition_download('ml-intensive-yandex-academy-spring-2025')\n",
        "\n",
        "print('Data source import complete.')\n"
      ],
      "metadata": {
        "id": "pHvtyr6REzFe",
        "colab": {
          "base_uri": "https://localhost:8080/"
        },
        "outputId": "101ef7e2-2970-44be-c531-3d92bfdc2403"
      },
      "cell_type": "code",
      "outputs": [
        {
          "output_type": "stream",
          "name": "stdout",
          "text": [
            "Downloading from https://www.kaggle.com/api/v1/competitions/data/download-all/ml-intensive-yandex-academy-spring-2025...\n"
          ]
        },
        {
          "output_type": "stream",
          "name": "stderr",
          "text": [
            "100%|██████████| 7.90G/7.90G [05:10<00:00, 27.3MB/s]"
          ]
        },
        {
          "output_type": "stream",
          "name": "stdout",
          "text": [
            "Extracting files...\n"
          ]
        },
        {
          "output_type": "stream",
          "name": "stderr",
          "text": [
            "\n"
          ]
        },
        {
          "output_type": "stream",
          "name": "stdout",
          "text": [
            "Data source import complete.\n"
          ]
        }
      ],
      "execution_count": null
    },
    {
      "cell_type": "code",
      "source": [
        "!ls /root/.cache/kagglehub/competitions/ml-intensive-yandex-academy-spring-2025/human_poses_data/"
      ],
      "metadata": {
        "colab": {
          "base_uri": "https://localhost:8080/"
        },
        "id": "QRgEY_zSM2oC",
        "outputId": "896da2b9-43ae-41c8-f5e1-d3d0392a6a84"
      },
      "execution_count": null,
      "outputs": [
        {
          "output_type": "stream",
          "name": "stdout",
          "text": [
            "activity_categories.csv  img_test  img_train  train_answers.csv\n"
          ]
        }
      ]
    },
    {
      "cell_type": "code",
      "source": [
        "!pip install --upgrade pillow pandas torch torchvision"
      ],
      "metadata": {
        "trusted": true,
        "execution": {
          "iopub.status.busy": "2025-04-08T20:00:01.912952Z",
          "iopub.execute_input": "2025-04-08T20:00:01.91332Z",
          "iopub.status.idle": "2025-04-08T20:00:08.513072Z",
          "shell.execute_reply.started": "2025-04-08T20:00:01.913288Z",
          "shell.execute_reply": "2025-04-08T20:00:08.511723Z"
        },
        "id": "5BOwIhxtEzFf",
        "outputId": "c48c19c7-53cf-48da-b1ca-33eda8ce4362",
        "colab": {
          "base_uri": "https://localhost:8080/"
        }
      },
      "outputs": [
        {
          "output_type": "stream",
          "name": "stdout",
          "text": [
            "Requirement already satisfied: pillow in /usr/local/lib/python3.11/dist-packages (11.2.1)\n",
            "Requirement already satisfied: pandas in /usr/local/lib/python3.11/dist-packages (2.2.3)\n",
            "Requirement already satisfied: torch in /usr/local/lib/python3.11/dist-packages (2.6.0+cu124)\n",
            "Requirement already satisfied: torchvision in /usr/local/lib/python3.11/dist-packages (0.21.0+cu124)\n",
            "Requirement already satisfied: numpy>=1.23.2 in /usr/local/lib/python3.11/dist-packages (from pandas) (2.0.2)\n",
            "Requirement already satisfied: python-dateutil>=2.8.2 in /usr/local/lib/python3.11/dist-packages (from pandas) (2.8.2)\n",
            "Requirement already satisfied: pytz>=2020.1 in /usr/local/lib/python3.11/dist-packages (from pandas) (2025.2)\n",
            "Requirement already satisfied: tzdata>=2022.7 in /usr/local/lib/python3.11/dist-packages (from pandas) (2025.2)\n",
            "Requirement already satisfied: filelock in /usr/local/lib/python3.11/dist-packages (from torch) (3.18.0)\n",
            "Requirement already satisfied: typing-extensions>=4.10.0 in /usr/local/lib/python3.11/dist-packages (from torch) (4.13.2)\n",
            "Requirement already satisfied: networkx in /usr/local/lib/python3.11/dist-packages (from torch) (3.4.2)\n",
            "Requirement already satisfied: jinja2 in /usr/local/lib/python3.11/dist-packages (from torch) (3.1.6)\n",
            "Requirement already satisfied: fsspec in /usr/local/lib/python3.11/dist-packages (from torch) (2025.3.2)\n",
            "Requirement already satisfied: nvidia-cuda-nvrtc-cu12==12.4.127 in /usr/local/lib/python3.11/dist-packages (from torch) (12.4.127)\n",
            "Requirement already satisfied: nvidia-cuda-runtime-cu12==12.4.127 in /usr/local/lib/python3.11/dist-packages (from torch) (12.4.127)\n",
            "Requirement already satisfied: nvidia-cuda-cupti-cu12==12.4.127 in /usr/local/lib/python3.11/dist-packages (from torch) (12.4.127)\n",
            "Requirement already satisfied: nvidia-cudnn-cu12==9.1.0.70 in /usr/local/lib/python3.11/dist-packages (from torch) (9.1.0.70)\n",
            "Requirement already satisfied: nvidia-cublas-cu12==12.4.5.8 in /usr/local/lib/python3.11/dist-packages (from torch) (12.4.5.8)\n",
            "Requirement already satisfied: nvidia-cufft-cu12==11.2.1.3 in /usr/local/lib/python3.11/dist-packages (from torch) (11.2.1.3)\n",
            "Requirement already satisfied: nvidia-curand-cu12==10.3.5.147 in /usr/local/lib/python3.11/dist-packages (from torch) (10.3.5.147)\n",
            "Requirement already satisfied: nvidia-cusolver-cu12==11.6.1.9 in /usr/local/lib/python3.11/dist-packages (from torch) (11.6.1.9)\n",
            "Requirement already satisfied: nvidia-cusparse-cu12==12.3.1.170 in /usr/local/lib/python3.11/dist-packages (from torch) (12.3.1.170)\n",
            "Requirement already satisfied: nvidia-cusparselt-cu12==0.6.2 in /usr/local/lib/python3.11/dist-packages (from torch) (0.6.2)\n",
            "Requirement already satisfied: nvidia-nccl-cu12==2.21.5 in /usr/local/lib/python3.11/dist-packages (from torch) (2.21.5)\n",
            "Requirement already satisfied: nvidia-nvtx-cu12==12.4.127 in /usr/local/lib/python3.11/dist-packages (from torch) (12.4.127)\n",
            "Requirement already satisfied: nvidia-nvjitlink-cu12==12.4.127 in /usr/local/lib/python3.11/dist-packages (from torch) (12.4.127)\n",
            "Requirement already satisfied: triton==3.2.0 in /usr/local/lib/python3.11/dist-packages (from torch) (3.2.0)\n",
            "Requirement already satisfied: sympy==1.13.1 in /usr/local/lib/python3.11/dist-packages (from torch) (1.13.1)\n",
            "Requirement already satisfied: mpmath<1.4,>=1.1.0 in /usr/local/lib/python3.11/dist-packages (from sympy==1.13.1->torch) (1.3.0)\n",
            "Requirement already satisfied: six>=1.5 in /usr/local/lib/python3.11/dist-packages (from python-dateutil>=2.8.2->pandas) (1.17.0)\n",
            "Requirement already satisfied: MarkupSafe>=2.0 in /usr/local/lib/python3.11/dist-packages (from jinja2->torch) (3.0.2)\n"
          ]
        }
      ],
      "execution_count": null
    },
    {
      "cell_type": "markdown",
      "source": [
        "# Импорт библиотек"
      ],
      "metadata": {
        "id": "EBgNgy42vs6C"
      }
    },
    {
      "cell_type": "code",
      "source": [
        "import os\n",
        "import pandas as pd\n",
        "from PIL import Image\n",
        "import torch\n",
        "import torch.nn as nn\n",
        "import torch.optim as optim\n",
        "from sklearn.model_selection import train_test_split\n",
        "import matplotlib.pyplot as plt\n",
        "from torch.utils.data import Dataset, DataLoader, Subset, ConcatDataset\n",
        "from torchvision import transforms\n",
        "from sklearn.metrics import f1_score\n",
        "import numpy as np\n",
        "from torchsummary import summary\n",
        "from google.colab import drive\n",
        "import shutil"
      ],
      "metadata": {
        "id": "wC81477Payys"
      },
      "execution_count": null,
      "outputs": []
    },
    {
      "cell_type": "markdown",
      "source": [
        "# Baseline обработки картинок"
      ],
      "metadata": {
        "id": "Skmjh0IgnnAN"
      }
    },
    {
      "cell_type": "code",
      "source": [
        "class TrainDataset(Dataset):\n",
        "    def __init__(self, img_dir, csv_path, transform=None):\n",
        "        self.img_dir = img_dir\n",
        "        self.df = pd.read_csv(csv_path)\n",
        "        self.transform = transform\n",
        "\n",
        "    def __len__(self):\n",
        "        return len(self.df)\n",
        "\n",
        "    def __getitem__(self, idx):\n",
        "        file_id = str(self.df.iloc[idx, 0])\n",
        "        img_name = os.path.join(self.img_dir, f\"{file_id}.jpg\")\n",
        "\n",
        "        image = Image.open(img_name).convert('RGB')\n",
        "        label = self.df.iloc[idx, 1]\n",
        "\n",
        "        if self.transform:\n",
        "            image = self.transform(image)\n",
        "\n",
        "        return image, label\n",
        "\n",
        "class TestDataset(Dataset):\n",
        "    def __init__(self, img_dir, transform=None):\n",
        "        self.img_dir = img_dir\n",
        "        self.img_list = os.listdir(img_dir)\n",
        "        self.transform = transform\n",
        "\n",
        "    def __len__(self):\n",
        "        return len(self.img_list)\n",
        "\n",
        "    def __getitem__(self, idx):\n",
        "        img_name = os.path.join(self.img_dir, self.img_list[idx])\n",
        "        image = Image.open(img_name).convert('RGB')\n",
        "\n",
        "        if self.transform:\n",
        "            image = self.transform(image)\n",
        "\n",
        "        return image\n",
        "\n",
        "DATA_DIR = \"/root/.cache/kagglehub/competitions/ml-intensive-yandex-academy-spring-2025/human_poses_data\"\n",
        "CSV_PATH = os.path.join(DATA_DIR, 'train_answers.csv')\n",
        "IMG_DIR = os.path.join(DATA_DIR, 'img_train')\n",
        "TEST_DIR = os.path.join(DATA_DIR, 'img_test')\n",
        "\n",
        "\n",
        "transform = transforms.Compose([\n",
        "    transforms.Resize((896, 896)),\n",
        "    transforms.ToTensor(),\n",
        "    transforms.Normalize(mean=[0.485, 0.456, 0.406], std=[0.229, 0.224, 0.225])\n",
        "])\n",
        "\n",
        "train_dataset = TrainDataset(\n",
        "    img_dir=IMG_DIR,\n",
        "    csv_path=CSV_PATH,\n",
        "    transform=transform\n",
        ")\n",
        "\n",
        "labels = train_dataset.df.iloc[:, 1].tolist()\n",
        "train_idx, val_idx = train_test_split(\n",
        "    range(len(labels)),\n",
        "    test_size=0.2,\n",
        "    stratify=labels,\n",
        "    random_state=42\n",
        ")\n",
        "\n",
        "train_subset = Subset(train_dataset, train_idx)\n",
        "val_subset = Subset(train_dataset, val_idx)\n",
        "\n",
        "test_dataset = TestDataset(\n",
        "    img_dir=TEST_DIR,\n",
        "    transform=transform\n",
        ")\n",
        "\n",
        "BATCH_SIZE = 32\n",
        "NUM_WORKERS = 2\n",
        "\n",
        "train_loader = DataLoader(\n",
        "    train_subset,\n",
        "    batch_size=BATCH_SIZE,\n",
        "    shuffle=True,\n",
        "    num_workers=NUM_WORKERS\n",
        ")\n",
        "\n",
        "val_loader = DataLoader(\n",
        "    val_subset,\n",
        "    batch_size=BATCH_SIZE,\n",
        "    shuffle=False,\n",
        "    num_workers=NUM_WORKERS\n",
        ")\n",
        "\n",
        "test_loader = DataLoader(\n",
        "    test_dataset,\n",
        "    batch_size=BATCH_SIZE,\n",
        "    shuffle=False,\n",
        "    num_workers=NUM_WORKERS\n",
        ")"
      ],
      "metadata": {
        "id": "acFvWO_LYgoS"
      },
      "execution_count": null,
      "outputs": []
    },
    {
      "cell_type": "markdown",
      "source": [
        "# Архитектура модели"
      ],
      "metadata": {
        "id": "5tb3WkGdnn_j"
      }
    },
    {
      "cell_type": "code",
      "source": [
        "class SEBlock(nn.Module):\n",
        "    def __init__(self, channels, reduction=16, dropout_p=0.2):\n",
        "        super().__init__()\n",
        "        self.fc = nn.Sequential(\n",
        "            nn.Linear(channels, channels // reduction),\n",
        "            nn.ReLU(inplace=True),\n",
        "            nn.Dropout(dropout_p),\n",
        "            nn.Linear(channels // reduction, channels),\n",
        "            nn.Sigmoid()\n",
        "        )\n",
        "\n",
        "    def forward(self, x):\n",
        "        b, c, _, _ = x.size()\n",
        "        y = x.mean((2, 3))\n",
        "        y = self.fc(y).view(b, c, 1, 1)\n",
        "        return x * y.expand_as(x)\n",
        "\n",
        "class BasicBlock(nn.Module):\n",
        "    expansion = 1\n",
        "\n",
        "    def __init__(self, in_channels, out_channels, stride=1, dropout_p=0.3):\n",
        "        super().__init__()\n",
        "        self.conv1 = nn.Conv2d(in_channels, out_channels, 3, stride, 1, bias=False)\n",
        "        self.bn1 = nn.BatchNorm2d(out_channels)\n",
        "        self.conv2 = nn.Conv2d(out_channels, out_channels, 3, 1, 1, bias=False)\n",
        "        self.bn2 = nn.BatchNorm2d(out_channels)\n",
        "        self.relu = nn.ReLU(inplace=True)\n",
        "        self.dropout = nn.Dropout(dropout_p)\n",
        "\n",
        "        self.shortcut = nn.Sequential()\n",
        "        if stride != 1 or in_channels != self.expansion*out_channels:\n",
        "            self.shortcut = nn.Sequential(\n",
        "                nn.Conv2d(in_channels, self.expansion*out_channels, 1, stride, bias=False),\n",
        "                nn.BatchNorm2d(self.expansion*out_channels)\n",
        "            )\n",
        "        self.se = SEBlock(out_channels, dropout_p=dropout_p)\n",
        "\n",
        "    def forward(self, x):\n",
        "        out = self.relu(self.bn1(self.conv1(x)))\n",
        "        out = self.dropout(out)\n",
        "        out = self.bn2(self.conv2(out))\n",
        "        out = self.se(out)\n",
        "        out += self.shortcut(x)\n",
        "        out = self.relu(out)\n",
        "        return out\n",
        "\n",
        "class ResNet(nn.Module):\n",
        "    def __init__(self, block, num_blocks, num_classes, dropout_p=0.3):\n",
        "        super().__init__()\n",
        "        self.in_channels = 64\n",
        "        self.dropout_p = dropout_p\n",
        "\n",
        "        self.conv1 = nn.Conv2d(3, 64, 7, 2, 3, bias=False)\n",
        "        self.bn1 = nn.BatchNorm2d(64)\n",
        "        self.relu = nn.ReLU(inplace=True)\n",
        "        self.maxpool = nn.MaxPool2d(3, 2, 1)\n",
        "\n",
        "        self.layer1 = self._make_layer(block, 64, num_blocks[0], 1)\n",
        "        self.layer2 = self._make_layer(block, 128, num_blocks[1], 2)\n",
        "        self.layer3 = self._make_layer(block, 256, num_blocks[2], 2)\n",
        "        self.layer4 = self._make_layer(block, 512, num_blocks[3], 2)\n",
        "\n",
        "        self.avgpool = nn.AdaptiveAvgPool2d((1, 1))\n",
        "        self.dropout = nn.Dropout(dropout_p)\n",
        "        self.fc = nn.Linear(512 * block.expansion, num_classes)\n",
        "\n",
        "    def _make_layer(self, block, out_channels, num_blocks, stride):\n",
        "        strides = [stride] + [1]*(num_blocks-1)\n",
        "        layers = []\n",
        "        for stride in strides:\n",
        "            layers.append(block(self.in_channels, out_channels, stride, self.dropout_p))\n",
        "            self.in_channels = out_channels * block.expansion\n",
        "        return nn.Sequential(*layers)\n",
        "\n",
        "    def forward(self, x):\n",
        "        x = self.relu(self.bn1(self.conv1(x)))\n",
        "        x = self.maxpool(x)\n",
        "\n",
        "        x = self.layer1(x)\n",
        "        x = self.layer2(x)\n",
        "        x = self.layer3(x)\n",
        "        x = self.layer4(x)\n",
        "\n",
        "        x = self.avgpool(x)\n",
        "        x = torch.flatten(x, 1)\n",
        "        x = self.dropout(x)\n",
        "        x = self.fc(x)\n",
        "        return x"
      ],
      "metadata": {
        "id": "_HlwhFjHSXfP"
      },
      "execution_count": null,
      "outputs": []
    },
    {
      "cell_type": "markdown",
      "source": [
        "# Функция обучения"
      ],
      "metadata": {
        "id": "XujqhvHZn5uW"
      }
    },
    {
      "cell_type": "code",
      "source": [
        "def train_model(model, train_loader, val_loader, num_epochs=30, lr=0.001):\n",
        "    device = torch.device('cuda' if torch.cuda.is_available() else 'cpu')\n",
        "    model = model.to(device)\n",
        "\n",
        "    criterion = nn.CrossEntropyLoss()\n",
        "    optimizer = optim.Adam(model.parameters(), lr=lr)\n",
        "\n",
        "    train_losses, val_losses = [], []\n",
        "    train_f1, val_f1 = [], []\n",
        "    best_f1 = 0.0\n",
        "\n",
        "    drive.mount('/content/drive')\n",
        "    drive_folder = '/content/drive/MyDrive/Colab Models'\n",
        "    !mkdir -p \"{drive_folder}\"\n",
        "\n",
        "    for epoch in range(num_epochs):\n",
        "        model.train()\n",
        "        running_loss = 0.0\n",
        "        all_preds = []\n",
        "        all_labels = []\n",
        "\n",
        "        for images, labels in train_loader:\n",
        "            images, labels = images.to(device), labels.to(device)\n",
        "\n",
        "            optimizer.zero_grad()\n",
        "            outputs = model(images)\n",
        "            loss = criterion(outputs, labels)\n",
        "            loss.backward()\n",
        "            optimizer.step()\n",
        "\n",
        "            running_loss += loss.item()\n",
        "            _, preds = torch.max(outputs, 1)\n",
        "            all_preds.extend(preds.cpu().numpy())\n",
        "            all_labels.extend(labels.cpu().numpy())\n",
        "\n",
        "        train_loss = running_loss / len(train_loader)\n",
        "        epoch_f1 = f1_score(all_labels, all_preds, average='macro')\n",
        "        train_f1.append(epoch_f1)\n",
        "        train_losses.append(train_loss)\n",
        "\n",
        "        model.eval()\n",
        "        val_loss = 0.0\n",
        "        val_preds = []\n",
        "        val_labels = []\n",
        "\n",
        "        with torch.no_grad():\n",
        "            for images, labels in val_loader:\n",
        "                images, labels = images.to(device), labels.to(device)\n",
        "                outputs = model(images)\n",
        "                loss = criterion(outputs, labels)\n",
        "\n",
        "                val_loss += loss.item()\n",
        "                _, preds = torch.max(outputs, 1)\n",
        "                val_preds.extend(preds.cpu().numpy())\n",
        "                val_labels.extend(labels.cpu().numpy())\n",
        "\n",
        "        val_loss = val_loss / len(val_loader)\n",
        "        val_epoch_f1 = f1_score(val_labels, val_preds, average='macro')\n",
        "        val_f1.append(val_epoch_f1)\n",
        "        val_losses.append(val_loss)\n",
        "\n",
        "        if val_epoch_f1 > best_f1:\n",
        "            best_f1 = val_epoch_f1\n",
        "            torch.save(model.state_dict(), 'best_model.pth')\n",
        "            model_source = 'best_model.pth'\n",
        "            drive_folder = '/content/drive/MyDrive/Colab Models'\n",
        "            model_destination = f'{drive_folder}/best_model.pth'\n",
        "            shutil.copy(model_source, model_destination)\n",
        "            print(f'New best model saved! F1: {best_f1:.4f}')\n",
        "\n",
        "        print(f'Epoch [{epoch+1}/{num_epochs}]')\n",
        "        print(f'Train Loss: {train_loss:.4f} | Val Loss: {val_loss:.4f}')\n",
        "        print(f'Train F1: {epoch_f1:.4f} | Val F1: {val_epoch_f1:.4f}')\n",
        "        print('-' * 60)\n",
        "\n",
        "    plt.figure(figsize=(12, 5))\n",
        "    plt.subplot(1, 2, 1)\n",
        "    plt.plot(train_losses, label='Train Loss')\n",
        "    plt.plot(val_losses, label='Val Loss')\n",
        "    plt.title('Loss Curves')\n",
        "    plt.legend()\n",
        "\n",
        "    plt.subplot(1, 2, 2)\n",
        "    plt.plot(train_f1, label='Train F1')\n",
        "    plt.plot(val_f1, label='Val F1')\n",
        "    plt.title('F1 Score Curves')\n",
        "    plt.legend()\n",
        "\n",
        "    plt.show()\n",
        "\n",
        "    return model"
      ],
      "metadata": {
        "id": "oRzXWKACb3PG"
      },
      "execution_count": null,
      "outputs": []
    },
    {
      "cell_type": "markdown",
      "source": [
        "# Вывод summary модели"
      ],
      "metadata": {
        "id": "35TK1YQ2pztS"
      }
    },
    {
      "cell_type": "code",
      "source": [
        "device = torch.device('cuda' if torch.cuda.is_available() else 'cpu')\n",
        "\n",
        "model = ResNet(BasicBlock, [2,2,2,2], num_classes=20).to(device)\n",
        "\n",
        "print(summary(\n",
        "    model,\n",
        "    input_size=(3, 896, 896),\n",
        "    device='cuda'\n",
        "))"
      ],
      "metadata": {
        "colab": {
          "base_uri": "https://localhost:8080/"
        },
        "id": "lHxKuqZ1p4X1",
        "outputId": "5ebef48f-1b73-4468-83b9-51a23be7674c"
      },
      "execution_count": null,
      "outputs": [
        {
          "output_type": "stream",
          "name": "stdout",
          "text": [
            "----------------------------------------------------------------\n",
            "        Layer (type)               Output Shape         Param #\n",
            "================================================================\n",
            "            Conv2d-1         [-1, 64, 448, 448]           9,408\n",
            "       BatchNorm2d-2         [-1, 64, 448, 448]             128\n",
            "              ReLU-3         [-1, 64, 448, 448]               0\n",
            "         MaxPool2d-4         [-1, 64, 224, 224]               0\n",
            "            Conv2d-5         [-1, 64, 224, 224]          36,864\n",
            "       BatchNorm2d-6         [-1, 64, 224, 224]             128\n",
            "              ReLU-7         [-1, 64, 224, 224]               0\n",
            "           Dropout-8         [-1, 64, 224, 224]               0\n",
            "            Conv2d-9         [-1, 64, 224, 224]          36,864\n",
            "      BatchNorm2d-10         [-1, 64, 224, 224]             128\n",
            "           Linear-11                    [-1, 4]             260\n",
            "             ReLU-12                    [-1, 4]               0\n",
            "          Dropout-13                    [-1, 4]               0\n",
            "           Linear-14                   [-1, 64]             320\n",
            "          Sigmoid-15                   [-1, 64]               0\n",
            "          SEBlock-16         [-1, 64, 224, 224]               0\n",
            "             ReLU-17         [-1, 64, 224, 224]               0\n",
            "       BasicBlock-18         [-1, 64, 224, 224]               0\n",
            "           Conv2d-19         [-1, 64, 224, 224]          36,864\n",
            "      BatchNorm2d-20         [-1, 64, 224, 224]             128\n",
            "             ReLU-21         [-1, 64, 224, 224]               0\n",
            "          Dropout-22         [-1, 64, 224, 224]               0\n",
            "           Conv2d-23         [-1, 64, 224, 224]          36,864\n",
            "      BatchNorm2d-24         [-1, 64, 224, 224]             128\n",
            "           Linear-25                    [-1, 4]             260\n",
            "             ReLU-26                    [-1, 4]               0\n",
            "          Dropout-27                    [-1, 4]               0\n",
            "           Linear-28                   [-1, 64]             320\n",
            "          Sigmoid-29                   [-1, 64]               0\n",
            "          SEBlock-30         [-1, 64, 224, 224]               0\n",
            "             ReLU-31         [-1, 64, 224, 224]               0\n",
            "       BasicBlock-32         [-1, 64, 224, 224]               0\n",
            "           Conv2d-33        [-1, 128, 112, 112]          73,728\n",
            "      BatchNorm2d-34        [-1, 128, 112, 112]             256\n",
            "             ReLU-35        [-1, 128, 112, 112]               0\n",
            "          Dropout-36        [-1, 128, 112, 112]               0\n",
            "           Conv2d-37        [-1, 128, 112, 112]         147,456\n",
            "      BatchNorm2d-38        [-1, 128, 112, 112]             256\n",
            "           Linear-39                    [-1, 8]           1,032\n",
            "             ReLU-40                    [-1, 8]               0\n",
            "          Dropout-41                    [-1, 8]               0\n",
            "           Linear-42                  [-1, 128]           1,152\n",
            "          Sigmoid-43                  [-1, 128]               0\n",
            "          SEBlock-44        [-1, 128, 112, 112]               0\n",
            "           Conv2d-45        [-1, 128, 112, 112]           8,192\n",
            "      BatchNorm2d-46        [-1, 128, 112, 112]             256\n",
            "             ReLU-47        [-1, 128, 112, 112]               0\n",
            "       BasicBlock-48        [-1, 128, 112, 112]               0\n",
            "           Conv2d-49        [-1, 128, 112, 112]         147,456\n",
            "      BatchNorm2d-50        [-1, 128, 112, 112]             256\n",
            "             ReLU-51        [-1, 128, 112, 112]               0\n",
            "          Dropout-52        [-1, 128, 112, 112]               0\n",
            "           Conv2d-53        [-1, 128, 112, 112]         147,456\n",
            "      BatchNorm2d-54        [-1, 128, 112, 112]             256\n",
            "           Linear-55                    [-1, 8]           1,032\n",
            "             ReLU-56                    [-1, 8]               0\n",
            "          Dropout-57                    [-1, 8]               0\n",
            "           Linear-58                  [-1, 128]           1,152\n",
            "          Sigmoid-59                  [-1, 128]               0\n",
            "          SEBlock-60        [-1, 128, 112, 112]               0\n",
            "             ReLU-61        [-1, 128, 112, 112]               0\n",
            "       BasicBlock-62        [-1, 128, 112, 112]               0\n",
            "           Conv2d-63          [-1, 256, 56, 56]         294,912\n",
            "      BatchNorm2d-64          [-1, 256, 56, 56]             512\n",
            "             ReLU-65          [-1, 256, 56, 56]               0\n",
            "          Dropout-66          [-1, 256, 56, 56]               0\n",
            "           Conv2d-67          [-1, 256, 56, 56]         589,824\n",
            "      BatchNorm2d-68          [-1, 256, 56, 56]             512\n",
            "           Linear-69                   [-1, 16]           4,112\n",
            "             ReLU-70                   [-1, 16]               0\n",
            "          Dropout-71                   [-1, 16]               0\n",
            "           Linear-72                  [-1, 256]           4,352\n",
            "          Sigmoid-73                  [-1, 256]               0\n",
            "          SEBlock-74          [-1, 256, 56, 56]               0\n",
            "           Conv2d-75          [-1, 256, 56, 56]          32,768\n",
            "      BatchNorm2d-76          [-1, 256, 56, 56]             512\n",
            "             ReLU-77          [-1, 256, 56, 56]               0\n",
            "       BasicBlock-78          [-1, 256, 56, 56]               0\n",
            "           Conv2d-79          [-1, 256, 56, 56]         589,824\n",
            "      BatchNorm2d-80          [-1, 256, 56, 56]             512\n",
            "             ReLU-81          [-1, 256, 56, 56]               0\n",
            "          Dropout-82          [-1, 256, 56, 56]               0\n",
            "           Conv2d-83          [-1, 256, 56, 56]         589,824\n",
            "      BatchNorm2d-84          [-1, 256, 56, 56]             512\n",
            "           Linear-85                   [-1, 16]           4,112\n",
            "             ReLU-86                   [-1, 16]               0\n",
            "          Dropout-87                   [-1, 16]               0\n",
            "           Linear-88                  [-1, 256]           4,352\n",
            "          Sigmoid-89                  [-1, 256]               0\n",
            "          SEBlock-90          [-1, 256, 56, 56]               0\n",
            "             ReLU-91          [-1, 256, 56, 56]               0\n",
            "       BasicBlock-92          [-1, 256, 56, 56]               0\n",
            "           Conv2d-93          [-1, 512, 28, 28]       1,179,648\n",
            "      BatchNorm2d-94          [-1, 512, 28, 28]           1,024\n",
            "             ReLU-95          [-1, 512, 28, 28]               0\n",
            "          Dropout-96          [-1, 512, 28, 28]               0\n",
            "           Conv2d-97          [-1, 512, 28, 28]       2,359,296\n",
            "      BatchNorm2d-98          [-1, 512, 28, 28]           1,024\n",
            "           Linear-99                   [-1, 32]          16,416\n",
            "            ReLU-100                   [-1, 32]               0\n",
            "         Dropout-101                   [-1, 32]               0\n",
            "          Linear-102                  [-1, 512]          16,896\n",
            "         Sigmoid-103                  [-1, 512]               0\n",
            "         SEBlock-104          [-1, 512, 28, 28]               0\n",
            "          Conv2d-105          [-1, 512, 28, 28]         131,072\n",
            "     BatchNorm2d-106          [-1, 512, 28, 28]           1,024\n",
            "            ReLU-107          [-1, 512, 28, 28]               0\n",
            "      BasicBlock-108          [-1, 512, 28, 28]               0\n",
            "          Conv2d-109          [-1, 512, 28, 28]       2,359,296\n",
            "     BatchNorm2d-110          [-1, 512, 28, 28]           1,024\n",
            "            ReLU-111          [-1, 512, 28, 28]               0\n",
            "         Dropout-112          [-1, 512, 28, 28]               0\n",
            "          Conv2d-113          [-1, 512, 28, 28]       2,359,296\n",
            "     BatchNorm2d-114          [-1, 512, 28, 28]           1,024\n",
            "          Linear-115                   [-1, 32]          16,416\n",
            "            ReLU-116                   [-1, 32]               0\n",
            "         Dropout-117                   [-1, 32]               0\n",
            "          Linear-118                  [-1, 512]          16,896\n",
            "         Sigmoid-119                  [-1, 512]               0\n",
            "         SEBlock-120          [-1, 512, 28, 28]               0\n",
            "            ReLU-121          [-1, 512, 28, 28]               0\n",
            "      BasicBlock-122          [-1, 512, 28, 28]               0\n",
            "AdaptiveAvgPool2d-123            [-1, 512, 1, 1]               0\n",
            "         Dropout-124                  [-1, 512]               0\n",
            "          Linear-125                   [-1, 20]          10,260\n",
            "================================================================\n",
            "Total params: 11,275,852\n",
            "Trainable params: 11,275,852\n",
            "Non-trainable params: 0\n",
            "----------------------------------------------------------------\n",
            "Input size (MB): 9.19\n",
            "Forward/backward pass size (MB): 1188.29\n",
            "Params size (MB): 43.01\n",
            "Estimated Total Size (MB): 1240.49\n",
            "----------------------------------------------------------------\n",
            "None\n"
          ]
        }
      ]
    },
    {
      "cell_type": "markdown",
      "source": [
        "# Обучение модели"
      ],
      "metadata": {
        "id": "Brly8Vpdn8px"
      }
    },
    {
      "cell_type": "markdown",
      "source": [
        "## 1 Этап"
      ],
      "metadata": {
        "id": "Oeb-S6aQAZ7K"
      }
    },
    {
      "cell_type": "code",
      "source": [
        "train_model(model, train_loader, val_loader, num_epochs=50, lr=0.001)"
      ],
      "metadata": {
        "colab": {
          "base_uri": "https://localhost:8080/"
        },
        "id": "8ptHDM-VbDaH",
        "outputId": "59ec2103-494a-421a-bf80-137608fed231"
      },
      "execution_count": null,
      "outputs": [
        {
          "output_type": "stream",
          "name": "stdout",
          "text": [
            "New best model saved! F1: 0.1332\n",
            "Epoch [1/50]\n",
            "Train Loss: 2.3704 | Val Loss: 2.2786\n",
            "Train F1: 0.1127 | Val F1: 0.1332\n",
            "------------------------------------------------------------\n",
            "New best model saved! F1: 0.1392\n",
            "Epoch [2/50]\n",
            "Train Loss: 2.2442 | Val Loss: 2.2835\n",
            "Train F1: 0.1505 | Val F1: 0.1392\n",
            "------------------------------------------------------------\n",
            "New best model saved! F1: 0.1703\n",
            "Epoch [3/50]\n",
            "Train Loss: 2.1736 | Val Loss: 2.1373\n",
            "Train F1: 0.1778 | Val F1: 0.1703\n",
            "------------------------------------------------------------\n",
            "New best model saved! F1: 0.1979\n",
            "Epoch [4/50]\n",
            "Train Loss: 2.0972 | Val Loss: 2.0896\n",
            "Train F1: 0.2027 | Val F1: 0.1979\n",
            "------------------------------------------------------------\n",
            "New best model saved! F1: 0.2359\n",
            "Epoch [5/50]\n",
            "Train Loss: 2.0289 | Val Loss: 1.9858\n",
            "Train F1: 0.2240 | Val F1: 0.2359\n",
            "------------------------------------------------------------\n",
            "New best model saved! F1: 0.2496\n",
            "Epoch [6/50]\n",
            "Train Loss: 1.9675 | Val Loss: 1.9544\n",
            "Train F1: 0.2365 | Val F1: 0.2496\n",
            "------------------------------------------------------------\n",
            "Epoch [7/50]\n",
            "Train Loss: 1.9218 | Val Loss: 1.9452\n",
            "Train F1: 0.2587 | Val F1: 0.2126\n",
            "------------------------------------------------------------\n",
            "New best model saved! F1: 0.2594\n",
            "Epoch [8/50]\n",
            "Train Loss: 1.8709 | Val Loss: 1.8955\n",
            "Train F1: 0.2750 | Val F1: 0.2594\n",
            "------------------------------------------------------------\n",
            "New best model saved! F1: 0.3388\n",
            "Epoch [9/50]\n",
            "Train Loss: 1.8153 | Val Loss: 1.7668\n",
            "Train F1: 0.2974 | Val F1: 0.3388\n",
            "------------------------------------------------------------\n",
            "Epoch [10/50]\n",
            "Train Loss: 1.7650 | Val Loss: 1.6991\n",
            "Train F1: 0.3139 | Val F1: 0.3382\n",
            "------------------------------------------------------------\n",
            "Epoch [11/50]\n",
            "Train Loss: 1.6962 | Val Loss: 1.8151\n",
            "Train F1: 0.3422 | Val F1: 0.2983\n",
            "------------------------------------------------------------\n",
            "New best model saved! F1: 0.3525\n",
            "Epoch [12/50]\n",
            "Train Loss: 1.6430 | Val Loss: 1.7088\n",
            "Train F1: 0.3727 | Val F1: 0.3525\n",
            "------------------------------------------------------------\n",
            "New best model saved! F1: 0.3873\n",
            "Epoch [13/50]\n",
            "Train Loss: 1.5828 | Val Loss: 1.5696\n",
            "Train F1: 0.3939 | Val F1: 0.3873\n",
            "------------------------------------------------------------\n"
          ]
        }
      ]
    },
    {
      "cell_type": "markdown",
      "source": [
        "## 2 Этап"
      ],
      "metadata": {
        "id": "Nhb1rAWnAhiT"
      }
    },
    {
      "cell_type": "code",
      "source": [
        "model.load_state_dict(torch.load('best_model(1).pth'))"
      ],
      "metadata": {
        "colab": {
          "base_uri": "https://localhost:8080/"
        },
        "id": "gX5ezNroAKZY",
        "outputId": "62ac2718-7a89-4f92-a6f3-a698af10b519"
      },
      "execution_count": null,
      "outputs": [
        {
          "output_type": "execute_result",
          "data": {
            "text/plain": [
              "<All keys matched successfully>"
            ]
          },
          "metadata": {},
          "execution_count": 11
        }
      ]
    },
    {
      "cell_type": "code",
      "source": [
        "train_model(model, train_loader, val_loader, num_epochs=50, lr=0.001)"
      ],
      "metadata": {
        "colab": {
          "base_uri": "https://localhost:8080/",
          "height": 1000
        },
        "id": "3rXyxmthAlL3",
        "outputId": "486e9693-76a9-4090-f177-0b89dda4e613"
      },
      "execution_count": null,
      "outputs": [
        {
          "output_type": "stream",
          "name": "stdout",
          "text": [
            "New best model saved! F1: 0.3913\n",
            "Epoch [1/50]\n",
            "Train Loss: 1.5075 | Val Loss: 1.6905\n",
            "Train F1: 0.4222 | Val F1: 0.3913\n",
            "------------------------------------------------------------\n",
            "Epoch [2/50]\n",
            "Train Loss: 1.4598 | Val Loss: 1.6560\n",
            "Train F1: 0.4395 | Val F1: 0.3912\n",
            "------------------------------------------------------------\n",
            "New best model saved! F1: 0.4549\n",
            "Epoch [3/50]\n",
            "Train Loss: 1.3735 | Val Loss: 1.4961\n",
            "Train F1: 0.4700 | Val F1: 0.4549\n",
            "------------------------------------------------------------\n",
            "New best model saved! F1: 0.4638\n",
            "Epoch [4/50]\n",
            "Train Loss: 1.3334 | Val Loss: 1.4878\n",
            "Train F1: 0.4906 | Val F1: 0.4638\n",
            "------------------------------------------------------------\n",
            "New best model saved! F1: 0.4705\n",
            "Epoch [5/50]\n",
            "Train Loss: 1.2612 | Val Loss: 1.4395\n",
            "Train F1: 0.5223 | Val F1: 0.4705\n",
            "------------------------------------------------------------\n",
            "New best model saved! F1: 0.4707\n",
            "Epoch [6/50]\n",
            "Train Loss: 1.2114 | Val Loss: 1.4710\n",
            "Train F1: 0.5322 | Val F1: 0.4707\n",
            "------------------------------------------------------------\n",
            "New best model saved! F1: 0.4922\n",
            "Epoch [7/50]\n",
            "Train Loss: 1.1640 | Val Loss: 1.4143\n",
            "Train F1: 0.5484 | Val F1: 0.4922\n",
            "------------------------------------------------------------\n",
            "New best model saved! F1: 0.5120\n",
            "Epoch [8/50]\n",
            "Train Loss: 1.1077 | Val Loss: 1.4367\n",
            "Train F1: 0.5713 | Val F1: 0.5120\n",
            "------------------------------------------------------------\n",
            "Epoch [9/50]\n",
            "Train Loss: 1.0578 | Val Loss: 1.5869\n",
            "Train F1: 0.5878 | Val F1: 0.4596\n",
            "------------------------------------------------------------\n",
            "Epoch [10/50]\n",
            "Train Loss: 1.0016 | Val Loss: 1.5205\n",
            "Train F1: 0.6114 | Val F1: 0.4895\n",
            "------------------------------------------------------------\n",
            "New best model saved! F1: 0.5575\n",
            "Epoch [11/50]\n",
            "Train Loss: 0.9504 | Val Loss: 1.2912\n",
            "Train F1: 0.6210 | Val F1: 0.5575\n",
            "------------------------------------------------------------\n",
            "New best model saved! F1: 0.5780\n",
            "Epoch [12/50]\n",
            "Train Loss: 0.9000 | Val Loss: 1.3053\n",
            "Train F1: 0.6508 | Val F1: 0.5780\n",
            "------------------------------------------------------------\n",
            "Epoch [13/50]\n",
            "Train Loss: 0.8508 | Val Loss: 1.2850\n",
            "Train F1: 0.6711 | Val F1: 0.5577\n",
            "------------------------------------------------------------\n",
            "New best model saved! F1: 0.5797\n",
            "Epoch [14/50]\n",
            "Train Loss: 0.7887 | Val Loss: 1.2394\n",
            "Train F1: 0.6889 | Val F1: 0.5797\n",
            "------------------------------------------------------------\n",
            "Epoch [15/50]\n",
            "Train Loss: 0.7569 | Val Loss: 1.3755\n",
            "Train F1: 0.6932 | Val F1: 0.5660\n",
            "------------------------------------------------------------\n",
            "Epoch [16/50]\n",
            "Train Loss: 0.7151 | Val Loss: 1.4985\n",
            "Train F1: 0.7137 | Val F1: 0.5358\n",
            "------------------------------------------------------------\n",
            "New best model saved! F1: 0.5855\n",
            "Epoch [17/50]\n",
            "Train Loss: 0.6684 | Val Loss: 1.3444\n",
            "Train F1: 0.7299 | Val F1: 0.5855\n",
            "------------------------------------------------------------\n",
            "Epoch [18/50]\n",
            "Train Loss: 0.6019 | Val Loss: 1.3577\n",
            "Train F1: 0.7598 | Val F1: 0.5681\n",
            "------------------------------------------------------------\n",
            "New best model saved! F1: 0.5993\n",
            "Epoch [19/50]\n",
            "Train Loss: 0.5871 | Val Loss: 1.3071\n",
            "Train F1: 0.7694 | Val F1: 0.5993\n",
            "------------------------------------------------------------\n",
            "New best model saved! F1: 0.6148\n",
            "Epoch [20/50]\n",
            "Train Loss: 0.5527 | Val Loss: 1.2941\n",
            "Train F1: 0.7750 | Val F1: 0.6148\n",
            "------------------------------------------------------------\n",
            "Epoch [21/50]\n",
            "Train Loss: 0.5164 | Val Loss: 1.4199\n",
            "Train F1: 0.7975 | Val F1: 0.6001\n",
            "------------------------------------------------------------\n",
            "Epoch [22/50]\n",
            "Train Loss: 0.4956 | Val Loss: 1.3874\n",
            "Train F1: 0.8034 | Val F1: 0.6048\n",
            "------------------------------------------------------------\n",
            "New best model saved! F1: 0.6383\n",
            "Epoch [23/50]\n",
            "Train Loss: 0.4492 | Val Loss: 1.2695\n",
            "Train F1: 0.8104 | Val F1: 0.6383\n",
            "------------------------------------------------------------\n",
            "Epoch [24/50]\n",
            "Train Loss: 0.4233 | Val Loss: 1.2962\n",
            "Train F1: 0.8309 | Val F1: 0.6360\n",
            "------------------------------------------------------------\n",
            "Epoch [25/50]\n",
            "Train Loss: 0.4176 | Val Loss: 1.2906\n",
            "Train F1: 0.8314 | Val F1: 0.6348\n",
            "------------------------------------------------------------\n",
            "Epoch [26/50]\n",
            "Train Loss: 0.3893 | Val Loss: 1.3808\n",
            "Train F1: 0.8364 | Val F1: 0.6315\n",
            "------------------------------------------------------------\n"
          ]
        },
        {
          "output_type": "error",
          "ename": "KeyboardInterrupt",
          "evalue": "",
          "traceback": [
            "\u001b[0;31m---------------------------------------------------------------------------\u001b[0m",
            "\u001b[0;31mKeyboardInterrupt\u001b[0m                         Traceback (most recent call last)",
            "\u001b[0;32m<ipython-input-12-0e4b20a6cfa8>\u001b[0m in \u001b[0;36m<cell line: 0>\u001b[0;34m()\u001b[0m\n\u001b[0;32m----> 1\u001b[0;31m \u001b[0mtrain_model\u001b[0m\u001b[0;34m(\u001b[0m\u001b[0mmodel\u001b[0m\u001b[0;34m,\u001b[0m \u001b[0mtrain_loader\u001b[0m\u001b[0;34m,\u001b[0m \u001b[0mval_loader\u001b[0m\u001b[0;34m,\u001b[0m \u001b[0mnum_epochs\u001b[0m\u001b[0;34m=\u001b[0m\u001b[0;36m50\u001b[0m\u001b[0;34m,\u001b[0m \u001b[0mlr\u001b[0m\u001b[0;34m=\u001b[0m\u001b[0;36m0.001\u001b[0m\u001b[0;34m)\u001b[0m\u001b[0;34m\u001b[0m\u001b[0;34m\u001b[0m\u001b[0m\n\u001b[0m",
            "\u001b[0;32m<ipython-input-9-0a4c8246459a>\u001b[0m in \u001b[0;36mtrain_model\u001b[0;34m(model, train_loader, val_loader, num_epochs, lr)\u001b[0m\n\u001b[1;32m     25\u001b[0m             \u001b[0moptimizer\u001b[0m\u001b[0;34m.\u001b[0m\u001b[0mstep\u001b[0m\u001b[0;34m(\u001b[0m\u001b[0;34m)\u001b[0m\u001b[0;34m\u001b[0m\u001b[0;34m\u001b[0m\u001b[0m\n\u001b[1;32m     26\u001b[0m \u001b[0;34m\u001b[0m\u001b[0m\n\u001b[0;32m---> 27\u001b[0;31m             \u001b[0mrunning_loss\u001b[0m \u001b[0;34m+=\u001b[0m \u001b[0mloss\u001b[0m\u001b[0;34m.\u001b[0m\u001b[0mitem\u001b[0m\u001b[0;34m(\u001b[0m\u001b[0;34m)\u001b[0m\u001b[0;34m\u001b[0m\u001b[0;34m\u001b[0m\u001b[0m\n\u001b[0m\u001b[1;32m     28\u001b[0m             \u001b[0m_\u001b[0m\u001b[0;34m,\u001b[0m \u001b[0mpreds\u001b[0m \u001b[0;34m=\u001b[0m \u001b[0mtorch\u001b[0m\u001b[0;34m.\u001b[0m\u001b[0mmax\u001b[0m\u001b[0;34m(\u001b[0m\u001b[0moutputs\u001b[0m\u001b[0;34m,\u001b[0m \u001b[0;36m1\u001b[0m\u001b[0;34m)\u001b[0m\u001b[0;34m\u001b[0m\u001b[0;34m\u001b[0m\u001b[0m\n\u001b[1;32m     29\u001b[0m             \u001b[0mall_preds\u001b[0m\u001b[0;34m.\u001b[0m\u001b[0mextend\u001b[0m\u001b[0;34m(\u001b[0m\u001b[0mpreds\u001b[0m\u001b[0;34m.\u001b[0m\u001b[0mcpu\u001b[0m\u001b[0;34m(\u001b[0m\u001b[0;34m)\u001b[0m\u001b[0;34m.\u001b[0m\u001b[0mnumpy\u001b[0m\u001b[0;34m(\u001b[0m\u001b[0;34m)\u001b[0m\u001b[0;34m)\u001b[0m\u001b[0;34m\u001b[0m\u001b[0;34m\u001b[0m\u001b[0m\n",
            "\u001b[0;31mKeyboardInterrupt\u001b[0m: "
          ]
        }
      ]
    },
    {
      "cell_type": "markdown",
      "source": [
        "Ресурсы закончились, поэтому будут еще этапы дообучения, но можно попробовать что то предиктнуть)"
      ],
      "metadata": {
        "id": "8-8McEAfD24g"
      }
    },
    {
      "cell_type": "markdown",
      "source": [
        "## 3 этап обучения, с аугментацией"
      ],
      "metadata": {
        "id": "FWz6BC2EuTyr"
      }
    },
    {
      "cell_type": "code",
      "source": [
        "model.load_state_dict(torch.load('best_model(4).pth')) # Загрузка лучшей модели"
      ],
      "metadata": {
        "colab": {
          "base_uri": "https://localhost:8080/"
        },
        "id": "shCWkYNlwgke",
        "outputId": "791f9aad-88f5-4d85-cda2-c0ea901669d3"
      },
      "execution_count": null,
      "outputs": [
        {
          "output_type": "execute_result",
          "data": {
            "text/plain": [
              "<All keys matched successfully>"
            ]
          },
          "metadata": {},
          "execution_count": 8
        }
      ]
    },
    {
      "cell_type": "markdown",
      "source": [
        "Создание даталоадеров с аугами"
      ],
      "metadata": {
        "id": "e76-kV60wk-X"
      }
    },
    {
      "cell_type": "code",
      "source": [
        "import os\n",
        "import pandas as pd\n",
        "from PIL import Image\n",
        "from torch.utils.data import Dataset, DataLoader, Subset\n",
        "from torchvision import transforms\n",
        "from sklearn.model_selection import train_test_split\n",
        "\n",
        "class TrainDataset(Dataset):\n",
        "    def __init__(self, img_dir, csv_path, transform=None):\n",
        "        self.img_dir = img_dir\n",
        "        self.df = pd.read_csv(csv_path)\n",
        "        self.transform = transform\n",
        "\n",
        "    def __len__(self):\n",
        "        return len(self.df)\n",
        "\n",
        "    def __getitem__(self, idx):\n",
        "        file_id = str(self.df.iloc[idx, 0])\n",
        "        img_name = os.path.join(self.img_dir, f\"{file_id}.jpg\")\n",
        "\n",
        "        image = Image.open(img_name).convert('RGB')\n",
        "        label = self.df.iloc[idx, 1]\n",
        "\n",
        "        if self.transform:\n",
        "            image = self.transform(image)\n",
        "\n",
        "        return image, label\n",
        "\n",
        "class TestDataset(Dataset):\n",
        "    def __init__(self, img_dir, transform=None):\n",
        "        self.img_dir = img_dir\n",
        "        self.img_list = os.listdir(img_dir)\n",
        "        self.transform = transform\n",
        "\n",
        "    def __len__(self):\n",
        "        return len(self.img_list)\n",
        "\n",
        "    def __getitem__(self, idx):\n",
        "        img_name = os.path.join(self.img_dir, self.img_list[idx])\n",
        "        image = Image.open(img_name).convert('RGB')\n",
        "\n",
        "        if self.transform:\n",
        "            image = self.transform(image)\n",
        "\n",
        "        return image\n",
        "\n",
        "DATA_DIR = \"/root/.cache/kagglehub/competitions/ml-intensive-yandex-academy-spring-2025/human_poses_data\"\n",
        "CSV_PATH = os.path.join(DATA_DIR, 'train_answers.csv')\n",
        "IMG_DIR = os.path.join(DATA_DIR, 'img_train')\n",
        "TEST_DIR = os.path.join(DATA_DIR, 'img_test')\n",
        "\n",
        "train_transform = transforms.Compose([\n",
        "    transforms.Resize((896, 896)),\n",
        "    transforms.RandomHorizontalFlip(),\n",
        "    transforms.RandomRotation(10),\n",
        "    transforms.ToTensor(),\n",
        "    transforms.Normalize(mean=[0.485, 0.456, 0.406], std=[0.229, 0.224, 0.225])\n",
        "])\n",
        "\n",
        "val_test_transform = transforms.Compose([\n",
        "    transforms.Resize((896, 896)),\n",
        "    transforms.ToTensor(),\n",
        "    transforms.Normalize(mean=[0.485, 0.456, 0.406], std=[0.229, 0.224, 0.225])\n",
        "])\n",
        "\n",
        "train_dataset = TrainDataset(\n",
        "    img_dir=IMG_DIR,\n",
        "    csv_path=CSV_PATH,\n",
        "    transform=train_transform\n",
        ")\n",
        "\n",
        "labels = train_dataset.df.iloc[:, 1].tolist()\n",
        "train_idx, val_idx = train_test_split(\n",
        "    range(len(labels)),\n",
        "    test_size=0.2,\n",
        "    stratify=labels,\n",
        "    random_state=42\n",
        ")\n",
        "\n",
        "train_subset = Subset(train_dataset, train_idx)\n",
        "val_subset = Subset(train_dataset, val_idx)\n",
        "\n",
        "val_subset.dataset.transform = val_test_transform\n",
        "\n",
        "test_dataset = TestDataset(\n",
        "    img_dir=TEST_DIR,\n",
        "    transform=val_test_transform\n",
        ")\n",
        "\n",
        "BATCH_SIZE = 32\n",
        "NUM_WORKERS = 2\n",
        "\n",
        "train_loader = DataLoader(\n",
        "    train_subset,\n",
        "    batch_size=BATCH_SIZE,\n",
        "    shuffle=True,\n",
        "    num_workers=NUM_WORKERS\n",
        ")\n",
        "\n",
        "val_loader = DataLoader(\n",
        "    val_subset,\n",
        "    batch_size=BATCH_SIZE,\n",
        "    shuffle=False,\n",
        "    num_workers=NUM_WORKERS\n",
        ")\n",
        "\n",
        "test_loader = DataLoader(\n",
        "    test_dataset,\n",
        "    batch_size=BATCH_SIZE,\n",
        "    shuffle=False,\n",
        "    num_workers=NUM_WORKERS\n",
        ")\n"
      ],
      "metadata": {
        "id": "xJJ5YnaquXiI"
      },
      "execution_count": null,
      "outputs": []
    },
    {
      "cell_type": "code",
      "source": [
        "train_model(model, train_loader, val_loader, num_epochs=20, lr=0.001)"
      ],
      "metadata": {
        "colab": {
          "base_uri": "https://localhost:8080/"
        },
        "id": "fBtYb5wuwtHx",
        "outputId": "790057a0-f489-4665-f808-5b00effbdf01"
      },
      "execution_count": null,
      "outputs": [
        {
          "output_type": "stream",
          "name": "stdout",
          "text": [
            "New best model saved! F1: 0.6317\n",
            "Epoch [1/20]\n",
            "Train Loss: 0.3525 | Val Loss: 1.4586\n",
            "Train F1: 0.8602 | Val F1: 0.6317\n",
            "------------------------------------------------------------\n",
            "Epoch [2/20]\n",
            "Train Loss: 0.3112 | Val Loss: 1.4913\n",
            "Train F1: 0.8764 | Val F1: 0.6236\n",
            "------------------------------------------------------------\n",
            "Epoch [3/20]\n",
            "Train Loss: 0.2908 | Val Loss: 1.4445\n",
            "Train F1: 0.8919 | Val F1: 0.6297\n",
            "------------------------------------------------------------\n",
            "New best model saved! F1: 0.6594\n",
            "Epoch [4/20]\n",
            "Train Loss: 0.2821 | Val Loss: 1.3492\n",
            "Train F1: 0.8820 | Val F1: 0.6594\n",
            "------------------------------------------------------------\n",
            "Epoch [5/20]\n",
            "Train Loss: 0.2850 | Val Loss: 1.4239\n",
            "Train F1: 0.8936 | Val F1: 0.6408\n",
            "------------------------------------------------------------\n",
            "Epoch [6/20]\n",
            "Train Loss: 0.2584 | Val Loss: 1.5167\n",
            "Train F1: 0.8932 | Val F1: 0.6400\n",
            "------------------------------------------------------------\n",
            "New best model saved! F1: 0.6632\n",
            "Epoch [7/20]\n",
            "Train Loss: 0.2288 | Val Loss: 1.4014\n",
            "Train F1: 0.9129 | Val F1: 0.6632\n",
            "------------------------------------------------------------\n",
            "Epoch [8/20]\n",
            "Train Loss: 0.2212 | Val Loss: 1.4287\n",
            "Train F1: 0.9136 | Val F1: 0.6592\n",
            "------------------------------------------------------------\n",
            "Epoch [9/20]\n",
            "Train Loss: 0.2062 | Val Loss: 1.5407\n",
            "Train F1: 0.9209 | Val F1: 0.6292\n",
            "------------------------------------------------------------\n",
            "Epoch [10/20]\n",
            "Train Loss: 0.2022 | Val Loss: 1.4850\n",
            "Train F1: 0.9219 | Val F1: 0.6545\n",
            "------------------------------------------------------------\n",
            "Epoch [11/20]\n",
            "Train Loss: 0.2013 | Val Loss: 1.4777\n",
            "Train F1: 0.9304 | Val F1: 0.6471\n",
            "------------------------------------------------------------\n",
            "Epoch [12/20]\n",
            "Train Loss: 0.2032 | Val Loss: 1.5264\n",
            "Train F1: 0.9236 | Val F1: 0.6335\n",
            "------------------------------------------------------------\n",
            "Epoch [13/20]\n",
            "Train Loss: 0.1975 | Val Loss: 1.6717\n",
            "Train F1: 0.9292 | Val F1: 0.6387\n",
            "------------------------------------------------------------\n",
            "New best model saved! F1: 0.6767\n",
            "Epoch [14/20]\n",
            "Train Loss: 0.1960 | Val Loss: 1.4127\n",
            "Train F1: 0.9227 | Val F1: 0.6767\n",
            "------------------------------------------------------------\n",
            "Epoch [15/20]\n",
            "Train Loss: 0.1596 | Val Loss: 1.5778\n",
            "Train F1: 0.9389 | Val F1: 0.6590\n",
            "------------------------------------------------------------\n",
            "Epoch [16/20]\n",
            "Train Loss: 0.1729 | Val Loss: 1.4583\n",
            "Train F1: 0.9319 | Val F1: 0.6633\n",
            "------------------------------------------------------------\n",
            "New best model saved! F1: 0.6784\n",
            "Epoch [17/20]\n",
            "Train Loss: 0.1395 | Val Loss: 1.3967\n",
            "Train F1: 0.9451 | Val F1: 0.6784\n",
            "------------------------------------------------------------\n"
          ]
        }
      ]
    },
    {
      "cell_type": "markdown",
      "source": [
        "## Четвертый этап обучения"
      ],
      "metadata": {
        "id": "EUEsDIpNSMm3"
      }
    },
    {
      "cell_type": "code",
      "source": [
        "model.load_state_dict(torch.load('best_model.pth')) # Загрузка лучшей модели"
      ],
      "metadata": {
        "colab": {
          "base_uri": "https://localhost:8080/"
        },
        "id": "xrvE8kL1SSu0",
        "outputId": "f76934d7-849c-490a-efca-520f27f8e6bc"
      },
      "execution_count": null,
      "outputs": [
        {
          "output_type": "execute_result",
          "data": {
            "text/plain": [
              "<All keys matched successfully>"
            ]
          },
          "metadata": {},
          "execution_count": 11
        }
      ]
    },
    {
      "cell_type": "code",
      "source": [
        "train_model(model, train_loader, val_loader, num_epochs=20, lr=0.0005)"
      ],
      "metadata": {
        "colab": {
          "base_uri": "https://localhost:8080/"
        },
        "id": "D-jik4EqSVpy",
        "outputId": "4b0e97f9-6c0b-4fc6-fe53-3aaf123ccf61"
      },
      "execution_count": null,
      "outputs": [
        {
          "output_type": "stream",
          "name": "stdout",
          "text": [
            "Mounted at /content/drive\n",
            "New best model saved! F1: 0.6919\n",
            "Epoch [1/20]\n",
            "Train Loss: 0.0696 | Val Loss: 1.4384\n",
            "Train F1: 0.9785 | Val F1: 0.6919\n",
            "------------------------------------------------------------\n",
            "Epoch [2/20]\n",
            "Train Loss: 0.0745 | Val Loss: 1.4544\n",
            "Train F1: 0.9772 | Val F1: 0.6885\n",
            "------------------------------------------------------------\n",
            "New best model saved! F1: 0.7057\n",
            "Epoch [3/20]\n",
            "Train Loss: 0.0757 | Val Loss: 1.3589\n",
            "Train F1: 0.9769 | Val F1: 0.7057\n",
            "------------------------------------------------------------\n",
            "Epoch [4/20]\n",
            "Train Loss: 0.0574 | Val Loss: 1.4661\n",
            "Train F1: 0.9797 | Val F1: 0.6940\n",
            "------------------------------------------------------------\n",
            "Epoch [5/20]\n",
            "Train Loss: 0.0578 | Val Loss: 1.4639\n",
            "Train F1: 0.9779 | Val F1: 0.6868\n",
            "------------------------------------------------------------\n",
            "Epoch [6/20]\n",
            "Train Loss: 0.0559 | Val Loss: 1.4651\n",
            "Train F1: 0.9791 | Val F1: 0.6944\n",
            "------------------------------------------------------------\n",
            "New best model saved! F1: 0.7147\n",
            "Epoch [7/20]\n",
            "Train Loss: 0.0580 | Val Loss: 1.4519\n",
            "Train F1: 0.9808 | Val F1: 0.7147\n",
            "------------------------------------------------------------\n",
            "Epoch [8/20]\n",
            "Train Loss: 0.0606 | Val Loss: 1.4632\n",
            "Train F1: 0.9804 | Val F1: 0.6979\n",
            "------------------------------------------------------------\n",
            "Epoch [9/20]\n",
            "Train Loss: 0.0679 | Val Loss: 1.5131\n",
            "Train F1: 0.9779 | Val F1: 0.6836\n",
            "------------------------------------------------------------\n",
            "Epoch [10/20]\n",
            "Train Loss: 0.0549 | Val Loss: 1.5878\n",
            "Train F1: 0.9812 | Val F1: 0.6918\n",
            "------------------------------------------------------------\n",
            "Epoch [11/20]\n",
            "Train Loss: 0.0556 | Val Loss: 1.4723\n",
            "Train F1: 0.9795 | Val F1: 0.6980\n",
            "------------------------------------------------------------\n",
            "Epoch [12/20]\n",
            "Train Loss: 0.0423 | Val Loss: 1.5086\n",
            "Train F1: 0.9876 | Val F1: 0.7009\n",
            "------------------------------------------------------------\n",
            "Epoch [13/20]\n",
            "Train Loss: 0.0773 | Val Loss: 1.4706\n",
            "Train F1: 0.9748 | Val F1: 0.7006\n",
            "------------------------------------------------------------\n",
            "Epoch [14/20]\n",
            "Train Loss: 0.0625 | Val Loss: 1.4409\n",
            "Train F1: 0.9820 | Val F1: 0.7059\n",
            "------------------------------------------------------------\n",
            "Epoch [15/20]\n",
            "Train Loss: 0.0577 | Val Loss: 1.5430\n",
            "Train F1: 0.9789 | Val F1: 0.6714\n",
            "------------------------------------------------------------\n",
            "Epoch [16/20]\n",
            "Train Loss: 0.0655 | Val Loss: 1.5906\n",
            "Train F1: 0.9782 | Val F1: 0.6894\n",
            "------------------------------------------------------------\n"
          ]
        }
      ]
    },
    {
      "cell_type": "markdown",
      "source": [
        "В общем лучше 0.7 я ничего получить не смог, так что могу сделать вывод, что это пик моего резнетика."
      ],
      "metadata": {
        "id": "DLsJIxBSjvd8"
      }
    },
    {
      "cell_type": "markdown",
      "source": [
        "# Предикт на тесте"
      ],
      "metadata": {
        "id": "xXRLeRP1n_8-"
      }
    },
    {
      "cell_type": "code",
      "source": [
        "import torch\n",
        "import pandas as pd\n",
        "from PIL import Image\n",
        "import os\n",
        "\n",
        "def predict_test_set(model, test_loader, device='cuda'):\n",
        "    model.eval()\n",
        "    model.to(device)\n",
        "    all_preds = []\n",
        "    filenames = []\n",
        "\n",
        "    with torch.no_grad():\n",
        "        for images, paths in test_loader:\n",
        "            images = images.to(device)\n",
        "            outputs = model(images)\n",
        "            _, preds = torch.max(outputs, 1)\n",
        "            all_preds.extend(preds.cpu().numpy())\n",
        "            filenames.extend(paths)\n",
        "\n",
        "    return filenames, all_preds\n",
        "\n",
        "model = ResNet(BasicBlock, [2,2,2,2], num_classes=20)\n",
        "model.load_state_dict(torch.load('best_model(7).pth'))\n",
        "\n",
        "class CustomTestDataset(Dataset):\n",
        "    def __init__(self, img_dir, transform=None):\n",
        "        self.img_dir = TEST_DIR\n",
        "        self.img_list = os.listdir(TEST_DIR)\n",
        "        self.transform = transform\n",
        "\n",
        "    def __len__(self):\n",
        "        return len(self.img_list)\n",
        "\n",
        "    def __getitem__(self, idx):\n",
        "        img_name = os.path.join(self.img_dir, self.img_list[idx])\n",
        "        image = Image.open(img_name).convert('RGB')\n",
        "\n",
        "        if self.transform:\n",
        "            image = self.transform(image)\n",
        "\n",
        "        return image, self.img_list[idx]\n",
        "\n",
        "test_dataset = CustomTestDataset(\n",
        "    img_dir='img_test',\n",
        "    transform=val_test_transform\n",
        ")\n",
        "\n",
        "test_loader = DataLoader(\n",
        "    test_dataset,\n",
        "    batch_size=32,\n",
        "    shuffle=False,\n",
        "    num_workers=2\n",
        ")\n",
        "\n",
        "filenames, predictions = predict_test_set(model, test_loader)\n",
        "\n",
        "results_df = pd.DataFrame({\n",
        "    'id': filenames,\n",
        "    'target_feature': predictions\n",
        "})\n",
        "\n",
        "results_df['id'] = results_df['id'].str.replace(r'\\.jpg$', '', regex=True)\n",
        "\n",
        "results_df.to_csv('predictions.csv', index=False)"
      ],
      "metadata": {
        "id": "6UyEP_VEHNNX"
      },
      "execution_count": null,
      "outputs": []
    },
    {
      "cell_type": "markdown",
      "source": [
        "# Вывод"
      ],
      "metadata": {
        "id": "YiMSOlXAkBYp"
      }
    },
    {
      "cell_type": "markdown",
      "source": [
        "В общем пик моей модели - f1-score = 0.7. Вполне неплохо, хотя можно куда лучше. Также я не обработал классы, в общем дальше больше, потом возможно загружу ноутбук с более продвинутой и крутой архитектурой, а также обработанными классами."
      ],
      "metadata": {
        "id": "rFJHnZT2kEJK"
      }
    }
  ]
}